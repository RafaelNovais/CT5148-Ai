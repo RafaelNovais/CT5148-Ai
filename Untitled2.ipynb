{
  "nbformat": 4,
  "nbformat_minor": 0,
  "metadata": {
    "colab": {
      "provenance": [],
      "authorship_tag": "ABX9TyOV35AI4lXGI2N06GUidG/V",
      "include_colab_link": true
    },
    "kernelspec": {
      "name": "python3",
      "display_name": "Python 3"
    },
    "language_info": {
      "name": "python"
    }
  },
  "cells": [
    {
      "cell_type": "markdown",
      "metadata": {
        "id": "view-in-github",
        "colab_type": "text"
      },
      "source": [
        "<a href=\"https://colab.research.google.com/github/RafaelNovais/MasterAI/blob/master/Untitled2.ipynb\" target=\"_parent\"><img src=\"https://colab.research.google.com/assets/colab-badge.svg\" alt=\"Open In Colab\"/></a>"
      ]
    },
    {
      "cell_type": "markdown",
      "source": [
        "BERT Classification Sentiment"
      ],
      "metadata": {
        "id": "LR3JeAaq9sVJ"
      }
    },
    {
      "cell_type": "code",
      "execution_count": null,
      "metadata": {
        "id": "fmdYjQ2I9rD9"
      },
      "outputs": [],
      "source": [
        "import pandas as pd\n",
        "from transformers import BertTokenizer, BertForTokenClassification\n",
        "from transformers import Trainer, TrainingArguments\n",
        "from datasets import load_metric, Dataset\n",
        "\n",
        "# Load your dataset\n",
        "#train_data = pd.read_csv('train.csv')\n",
        "#dev_data = pd.read_csv('dev.csv')\n",
        "\n",
        "# Preprocess the data to convert it into BIO format\n",
        "def tokenize_and_align_labels(examples):\n",
        "    tokenizer = BertTokenizer.from_pretrained('bert-base-uncased')\n",
        "    tokenized_inputs = tokenizer(examples[\"text\"], truncation=True, padding=True, is_split_into_words=True)\n",
        "    labels = []\n",
        "    for i, label in enumerate(examples[\"tags\"]):\n",
        "        word_ids = tokenized_inputs.word_ids(batch_index=i)\n",
        "        previous_word_idx = None\n",
        "        label_ids = []\n",
        "        for word_idx in word_ids:\n",
        "            if word_idx is None:\n",
        "                label_ids.append(-100)\n",
        "            elif word_idx != previous_word_idx:\n",
        "                label_ids.append(label[word_idx])\n",
        "            else:\n",
        "                label_ids.append(label[word_idx] if label_all_tokens else -100)\n",
        "            previous_word_idx = word_idx\n",
        "        labels.append(label_ids)\n",
        "\n",
        "    tokenized_inputs[\"labels\"] = labels\n",
        "    return tokenized_inputs\n",
        "\n",
        "# Prepare data in proper format\n",
        "def prepare_data(df):\n",
        "    # Create tags for BIO scheme\n",
        "    df['tokens'] = df['text'].apply(lambda x: tokenizer.tokenize(x))\n",
        "    df['tags'] = df.apply(lambda x: create_bio_tags(x['text'], x['selected_text']), axis=1)\n",
        "    return Dataset.from_pandas(df)\n",
        "\n",
        "train_dataset = prepare_data(train_data)\n",
        "dev_dataset = prepare_data(dev_data)\n",
        "\n",
        "# Define the model\n",
        "model = BertForTokenClassification.from_pretrained('bert-base-uncased', num_labels=num_classes)\n",
        "\n",
        "# Define the trainer and training arguments\n",
        "training_args = TrainingArguments(\n",
        "    output_dir='./results',  # output directory\n",
        "    evaluation_strategy=\"epoch\",\n",
        "    per_device_train_batch_size=8,\n",
        "    per_device_eval_batch_size=8,\n",
        "    num_train_epochs=3,\n",
        "    weight_decay=0.01,\n",
        ")\n",
        "\n",
        "# Initialize trainer\n",
        "trainer = Trainer(\n",
        "    model=model,\n",
        "    args=training_args,\n",
        "    train_dataset=train_dataset,\n",
        "    eval_dataset=dev_dataset,\n",
        "    tokenizer=tokenizer,\n",
        "    compute_metrics=compute_metrics\n",
        ")\n",
        "\n",
        "# Train the model\n",
        "trainer.train()\n",
        "\n",
        "# Evaluate the model\n",
        "trainer.evaluate()\n",
        "\n",
        "raise NotImplementedError()"
      ]
    }
  ]
}