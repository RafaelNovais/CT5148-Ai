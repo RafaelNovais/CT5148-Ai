{
  "nbformat": 4,
  "nbformat_minor": 0,
  "metadata": {
    "colab": {
      "provenance": [],
      "mount_file_id": "1GW8J6jobQllvXbv6PVU7ivIfJ9QBYJT5",
      "authorship_tag": "ABX9TyOK37WFwchAANVJeF00Q5hm",
      "include_colab_link": true
    },
    "kernelspec": {
      "name": "python3",
      "display_name": "Python 3"
    },
    "language_info": {
      "name": "python"
    }
  },
  "cells": [
    {
      "cell_type": "markdown",
      "metadata": {
        "id": "view-in-github",
        "colab_type": "text"
      },
      "source": [
        "<a href=\"https://colab.research.google.com/github/RafaelNovais/MasterAI/blob/master/MovieClassification.ipynb\" target=\"_parent\"><img src=\"https://colab.research.google.com/assets/colab-badge.svg\" alt=\"Open In Colab\"/></a>"
      ]
    },
    {
      "cell_type": "markdown",
      "source": [
        "##Movie Analysis\n"
      ],
      "metadata": {
        "id": "cO49mIsLCirK"
      }
    },
    {
      "cell_type": "code",
      "execution_count": 3,
      "metadata": {
        "id": "WhOYw04NChdI"
      },
      "outputs": [],
      "source": [
        "import pandas as pd\n",
        "\n",
        "ratings = pd.read_csv(\"drive/MyDrive/Master/Courses/Movie/ratings.csv\")\n",
        "\n"
      ]
    }
  ]
}