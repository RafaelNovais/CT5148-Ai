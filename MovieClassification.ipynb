{
  "nbformat": 4,
  "nbformat_minor": 0,
  "metadata": {
    "colab": {
      "provenance": [],
      "mount_file_id": "1GW8J6jobQllvXbv6PVU7ivIfJ9QBYJT5",
      "authorship_tag": "ABX9TyNH6ybRWmkW73a1PYKYR02a",
      "include_colab_link": true
    },
    "kernelspec": {
      "name": "python3",
      "display_name": "Python 3"
    },
    "language_info": {
      "name": "python"
    }
  },
  "cells": [
    {
      "cell_type": "markdown",
      "metadata": {
        "id": "view-in-github",
        "colab_type": "text"
      },
      "source": [
        "<a href=\"https://colab.research.google.com/github/RafaelNovais/MasterAI/blob/master/MovieClassification.ipynb\" target=\"_parent\"><img src=\"https://colab.research.google.com/assets/colab-badge.svg\" alt=\"Open In Colab\"/></a>"
      ]
    },
    {
      "cell_type": "markdown",
      "source": [
        "##Movie Analysis\n"
      ],
      "metadata": {
        "id": "cO49mIsLCirK"
      }
    },
    {
      "cell_type": "code",
      "execution_count": null,
      "metadata": {
        "id": "WhOYw04NChdI"
      },
      "outputs": [],
      "source": [
        "import pandas as pd\n",
        "import seaborn as sns\n",
        "import matplotlib.pyplot as plt\n",
        "\n",
        "\n",
        "ratings = pd.read_csv(\"drive/MyDrive/Master/Courses/Movie/ratings.csv\")\n",
        "movies = pd.read_csv(\"drive/MyDrive/Master/Courses/Movie/movies.csv\")\n",
        "tags = pd.read_csv(\"drive/MyDrive/Master/Courses/Movie/tags.csv\")\n",
        "\n",
        "print(ratings)\n",
        "print(movies)\n",
        "print(tags)\n",
        "\n",
        "\n",
        "ratings.rating.describe()\n",
        "\n",
        "rating_mean = ratings.groupby(\"movieId\").mean()[\"rating\"]"
      ]
    },
    {
      "cell_type": "code",
      "source": [
        "rating_mean.plot(kind='hist')\n"
      ],
      "metadata": {
        "id": "Ppce-oOLNbJc"
      },
      "execution_count": null,
      "outputs": []
    },
    {
      "cell_type": "code",
      "source": [
        "sns.distplot(rating_mean, bins=10)\n"
      ],
      "metadata": {
        "id": "_GZmzfXUO_uo"
      },
      "execution_count": null,
      "outputs": []
    },
    {
      "cell_type": "code",
      "source": [
        "ratings.rating.std() #standard deviation"
      ],
      "metadata": {
        "id": "ZHLv7i2opscu"
      },
      "execution_count": null,
      "outputs": []
    },
    {
      "cell_type": "code",
      "source": [
        "#tags.tag.unique()# return distinct\n",
        "#tags.tag.drop_duplicates # remove duplicates\n",
        "#tags[tags['tag']== 'funny'] # Filter Funny\n",
        "\n",
        "tags[(tags['userId']>= 100) & (tags['userId']<= 500)] # Filter between  | or\n"
      ],
      "metadata": {
        "id": "IcrQipCcxpM5"
      },
      "execution_count": null,
      "outputs": []
    },
    {
      "cell_type": "code",
      "source": [
        "rating_mean.to_csv('drive/MyDrive/Master/Courses/Movie/RatingMean.csv') #export data"
      ],
      "metadata": {
        "id": "PXuQVufVzWtR"
      },
      "execution_count": 40,
      "outputs": []
    },
    {
      "cell_type": "code",
      "source": [
        "#tags[tags['tag'].isnull()] # return null values\n",
        "#tags.dropna(subset=['tag'],  implace = True) # delete null values, implace to apply the changes in tags directly\n",
        "\n",
        "select = (tags['tag'] == 'funny') # set all funny in select\n",
        "nofunny = tags[~select] # remove all funnys from tags ~not in\n",
        "\n",
        "tags.fillna({'tag':0, 'timestamep': 0})  # fill an NA with 0"
      ],
      "metadata": {
        "id": "2kRCnYqgQ6--"
      },
      "execution_count": null,
      "outputs": []
    }
  ]
}