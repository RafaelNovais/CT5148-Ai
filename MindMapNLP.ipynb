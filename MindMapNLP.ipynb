{
  "nbformat": 4,
  "nbformat_minor": 0,
  "metadata": {
    "colab": {
      "provenance": [],
      "authorship_tag": "ABX9TyOwAKDGyDa8vGhn2hvUyOrv",
      "include_colab_link": true
    },
    "kernelspec": {
      "name": "python3",
      "display_name": "Python 3"
    },
    "language_info": {
      "name": "python"
    }
  },
  "cells": [
    {
      "cell_type": "markdown",
      "metadata": {
        "id": "view-in-github",
        "colab_type": "text"
      },
      "source": [
        "<a href=\"https://colab.research.google.com/github/RafaelNovais/MasterAI/blob/master/MindMapNLP.ipynb\" target=\"_parent\"><img src=\"https://colab.research.google.com/assets/colab-badge.svg\" alt=\"Open In Colab\"/></a>"
      ]
    },
    {
      "cell_type": "markdown",
      "source": [
        "Week 1\n",
        "\n",
        "# **Natural Language Processing (NLP)**\n",
        "\n",
        "* Classification\n",
        "* Annotation\n",
        "* Parsing\n",
        "* Translation\n",
        "\n",
        "**Natural Language Generation**\n",
        "\n",
        "**Knowledge Extraction**\n",
        "\n",
        "**Speech Processing and Multimodal NLP**\n",
        "\n",
        "\n",
        "\n",
        "\n",
        "# **Human Language**\n",
        "\n",
        "* Human Language as a Social Tool\n",
        "* Human Language as a Biological System\n",
        "* Human Language as a Logical System\n",
        "* Human Language and Politics\n",
        "\n",
        "Language Families, Lexical Ambiguity , Syntactic Ambiguity\n",
        "\n",
        "\n",
        "**Language Data**\n",
        "\n",
        "\n",
        "* Types\n",
        "* Some Specifics by Type\n",
        "* Corpus +Corpora A corpus may contain texts in a single language (monolingual corpus) or text data in multiple languages (multilingual corpus). In order to teach the computer to model (‘understand’) how a language works.\n",
        "* Annotated Corpus Corpus with annotations on word, phrase, sentence or document level is used in NLP for supervised training and/or evaluation\n",
        "* General Corpus Representative of a language as a whole, Used for training general purpose NLP tools/models ex:Corpus of Contemporary American English (COCA)\n",
        "* Domain Corpus Representative of a domain-specific subset of a language, Used for training domain-specific NLP tools/models, e.g. language as used specifically, e.g., in healthcare, finance, legal,\n",
        "* Monolingual Corpus in one language\n",
        "* Multilingual Corpus in two or more languagesv\n",
        "* Parallel Corpus ollection of translated documents, e.g. proceedings of the European Parliament with translations between 21 European languages\n",
        "* Comparable Corpus collection of documents on the same topic in different languages, e.g. links between Wikipedia articles in different languages\n",
        "* Multimodal Corpus Consists not only of language data but also image, audio, video\n",
        "\n",
        "\n",
        "**Language Data - Lexicon**\n",
        "\n",
        "Database of words with lexical properties such as spelling, pronunciation, morphology, PoS, semantics, Originating out of paper dictionaries\n",
        "\n",
        "\n",
        "\n"
      ],
      "metadata": {
        "id": "3YGk_48FirXS"
      }
    }
  ]
}