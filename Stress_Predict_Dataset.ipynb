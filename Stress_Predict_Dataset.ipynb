{
  "nbformat": 4,
  "nbformat_minor": 0,
  "metadata": {
    "colab": {
      "provenance": [],
      "mount_file_id": "1U5Yc1N162c4TZkToIVQ0TKgNdapv0LTs",
      "authorship_tag": "ABX9TyP6BcpJ5yBqfPG5MOtmMHBt",
      "include_colab_link": true
    },
    "kernelspec": {
      "name": "python3",
      "display_name": "Python 3"
    },
    "language_info": {
      "name": "python"
    }
  },
  "cells": [
    {
      "cell_type": "markdown",
      "metadata": {
        "id": "view-in-github",
        "colab_type": "text"
      },
      "source": [
        "<a href=\"https://colab.research.google.com/github/RafaelNovais/CT5148-Ai/blob/master/Stress_Predict_Dataset.ipynb\" target=\"_parent\"><img src=\"https://colab.research.google.com/assets/colab-badge.svg\" alt=\"Open In Colab\"/></a>"
      ]
    },
    {
      "cell_type": "code",
      "execution_count": null,
      "metadata": {
        "id": "4DlozoDyiNbf"
      },
      "outputs": [],
      "source": [
        "\"\"\"\n",
        "Rafael Novais de Melo\n",
        "2324-CT5170 Principles of Machine Learning\n",
        "23113607\n",
        "\n",
        "Understanding the Dataset\n",
        "The appropriate machine learning category for solving the problem of predicting stress levels  Supervised Classification becasue the data is binary so\n",
        " we can do a predict with the training  and confirme with the test  the precision with the data we have\n",
        "can provide a quantitative estimate of stress, allowing for a more fine-grained understanding of stress levels.\n",
        "\n",
        "Data Exploration\n",
        "Can not be considered imbalanced because the proportion is:\n",
        "To be consideraed imbalanced < 20% low to moderate\n",
        "Data\n",
        "0    0.672802\n",
        "1    0.327198\n",
        "Test\n",
        "0    0.671782\n",
        "1    0.328218\n",
        "Train\n",
        "0    0.673239\n",
        "1    0.326761\n",
        "\n",
        "\n",
        "Choosing an ML Package\n",
        "Panda the libery to read and use the files in data formats, help to convert, and clean and organize.\n",
        "Scikit Learn to use classification algorithms, decision trees, random forests, support vector machines, linear regression\n",
        "Matplotlib and seaborn  to data visualization and scientific plotting\n",
        "numpy to organize the data and math\n",
        "\n",
        "\n",
        "Data Pre-processing\n",
        "Remove the rowns are empty\n",
        "set the data in a dataframe\n",
        "find the base line to compare the accuracy if all the results were 1, aleatory\n",
        "\n",
        "\n",
        "Algorithm Selection and Application\n",
        "DecisionTreeClassifier\n",
        "max_depth=5 just to create the graphic, if not the picture will be so big, but for more precison and accuracy is better remove max_depth from DecisionTreeClassifier\n",
        "Using the confusion matrix to indentify the quantity was predict correct and how many was wrong and to verify the recall, proporction the wrong predict in the per feature\n",
        "calculated the accuracy to compare with the baseline to find the difference between aleatory predict and the machine learning predict\n",
        "\n",
        "\n",
        "Random Forest\n",
        "Random Forest tree estimators=100 to run with 100 decision tree but the difference for a single decions tree was minimo to the quanti of process\n",
        "the result Random Forest was the best precise\n",
        "\n",
        "SVM\n",
        "The accuracy with SVM it was very low not trustflull\n",
        "\n",
        "AdaBoostClassifier\n",
        "The result was similar, but less precise than Random Forest\n",
        "\n",
        "K-Nearest Neighbors\n",
        "The result was similar, but less precise than Random Forest\n",
        "\n",
        "\n",
        "Model Evaluation\n",
        "Because it is a health issue, the best metric I believe is precission,\n",
        "and after applying some classification algorithms and calculating the precision metrics, the algorithm that had the best precission was the Random Forest\n",
        "Random Forest Precision = 0.6317918443205423\n",
        "\n",
        "\n",
        "\n",
        "\"\"\"\n",
        "\n"
      ]
    },
    {
      "cell_type": "code",
      "source": [
        "from collections import Counter\n",
        "import matplotlib.pyplot as plt\n",
        "import numpy as np\n",
        "import seaborn as sns\n",
        "import pandas as pd\n",
        "from pandas.core.arrays.datetimelike import mode\n",
        "from sklearn.svm import LinearSVC\n",
        "from sklearn.metrics import accuracy_score\n",
        "from sklearn.metrics import precision_score\n",
        "from sklearn.metrics import confusion_matrix\n",
        "from sklearn.metrics import recall_score\n",
        "from sklearn.tree import DecisionTreeClassifier\n",
        "from sklearn.tree import export_graphviz\n",
        "from sklearn.ensemble import RandomForestClassifier\n",
        "from sklearn.ensemble import AdaBoostClassifier\n",
        "from sklearn.neighbors import KNeighborsClassifier\n",
        "import graphviz\n",
        "!pip install graphviz\n",
        "!apt-get install graphviz\n",
        "\n",
        "\n",
        "\n",
        "###Data Pre-processing\n",
        "data = pd.read_csv(\"/content/drive/MyDrive/Colab Notebooks/Data.csv\")\n",
        "dataTest = pd.read_csv(\"/content/drive/MyDrive/Colab Notebooks/test.csv\")\n",
        "dataTrain = pd.read_csv(\"/content/drive/MyDrive/Colab Notebooks/train.csv\")\n",
        "data = pd.DataFrame(data)\n",
        "data = data.dropna()\n",
        "dataTest = pd.DataFrame(dataTest)\n",
        "dataTest = dataTest.dropna()\n",
        "dataTrain = pd.DataFrame(dataTrain)\n",
        "dataTrain = dataTrain.dropna()\n",
        "\n",
        "x_data = data[[\"HR\",\"respr\"]]\n",
        "y_data = data[\"Label\"]\n",
        "x_test = dataTest[[\"HR\",\"respr\"]]\n",
        "y_test = dataTest[\"Label\"]\n",
        "x_train = dataTrain[[\"HR\",\"respr\"]]\n",
        "y_train = dataTrain[\"Label\"]\n",
        "\n",
        "\n",
        "###Data Exploration\n",
        "propor_data = y_data.value_counts()/len(x_data)\n",
        "propor_test = y_test.value_counts()/len(x_test)\n",
        "propor_train = y_train.value_counts()/len(x_train)\n",
        "\n"
      ],
      "metadata": {
        "colab": {
          "base_uri": "https://localhost:8080/"
        },
        "id": "iYe0QuMUKr-z",
        "outputId": "90fcdb16-95ac-440a-c441-294601b426a4"
      },
      "execution_count": 21,
      "outputs": [
        {
          "output_type": "stream",
          "name": "stdout",
          "text": [
            "Requirement already satisfied: graphviz in /usr/local/lib/python3.10/dist-packages (0.20.1)\n",
            "Reading package lists... Done\n",
            "Building dependency tree... Done\n",
            "Reading state information... Done\n",
            "graphviz is already the newest version (2.42.2-6).\n",
            "0 upgraded, 0 newly installed, 0 to remove and 18 not upgraded.\n"
          ]
        }
      ]
    },
    {
      "cell_type": "code",
      "source": [
        "###BaseLine\n",
        "base_line = np.ones(len(y_test))\n",
        "model = DecisionTreeClassifier(random_state=0)\n",
        "model.fit(x_train,y_train)\n",
        "base_line_accuracy = accuracy_score(y_test,base_line)\n",
        "print(base_line_accuracy)\n"
      ],
      "metadata": {
        "id": "YdtXHd81-2HG"
      },
      "execution_count": null,
      "outputs": []
    },
    {
      "cell_type": "code",
      "source": [
        "\n",
        "###Algorithm Selection and Application\n",
        "##Decision Tree Classifier\n",
        "model = DecisionTreeClassifier( random_state=0)\n",
        "model.fit(x_train,y_train)\n",
        "predict = model.predict(x_test)\n",
        "\n",
        "###Model Evaluation\n",
        "accuracy = accuracy_score(y_test,predict)\n",
        "precision = precision_score(y_test,predict)\n",
        "confusion_matrix = confusion_matrix(y_test,predict)\n",
        "recall = recall_score(y_test,predict)\n",
        "print(accuracy, precision,recall ,confusion_matrix)\n",
        "#Print Graphic(max_depth=5)\n",
        "#dot_data = export_graphviz(model, feature_names=x_train.columns, class_names=[\"no\", \"yes\"] ,filled=True, rounded=True)\n",
        "#graphviz.Source(dot_data)\n"
      ],
      "metadata": {
        "colab": {
          "base_uri": "https://localhost:8080/"
        },
        "id": "bao3az--UOC8",
        "outputId": "afd28c6e-7cdd-488b-813d-64c960ca3f75"
      },
      "execution_count": 12,
      "outputs": [
        {
          "output_type": "stream",
          "name": "stdout",
          "text": [
            "0.7107844589989035 0.559023430513325 0.5642205975268526 [[17733  4931]\n",
            " [ 4828  6251]]\n"
          ]
        }
      ]
    },
    {
      "cell_type": "code",
      "source": [
        "###Random Forest\n",
        "model = RandomForestClassifier(n_estimators=200 ,random_state=0)\n",
        "model.fit(x_train,y_train)\n",
        "predict = model.predict(x_test)\n",
        "\n",
        "###Model Evaluation\n",
        "accuracy = accuracy_score(y_test,predict)\n",
        "precision = precision_score(y_test,predict)\n",
        "confusion_matrix = confusion_matrix(y_test,predict)\n",
        "recall = recall_score(y_test,predict)\n",
        "print(accuracy, precision,recall ,confusion_matrix)"
      ],
      "metadata": {
        "colab": {
          "base_uri": "https://localhost:8080/"
        },
        "id": "1PqK94K5C08C",
        "outputId": "9b522545-c759-46b5-a01b-246565ba1b80"
      },
      "execution_count": 15,
      "outputs": [
        {
          "output_type": "stream",
          "name": "stdout",
          "text": [
            "0.7431170909521975 0.6317918443205423 0.5216174745013088 [[19296  3368]\n",
            " [ 5300  5779]]\n"
          ]
        }
      ]
    },
    {
      "cell_type": "code",
      "source": [
        "##Support Vector Machine (SVM)\n",
        "model = LinearSVC(random_state=0)\n",
        "model.fit(x_train,y_train)\n",
        "predict = model.predict(x_test)\n",
        "\n",
        "###Model Evaluation\n",
        "accuracy = accuracy_score(y_test,predict)\n",
        "precision = precision_score(y_test,predict)\n",
        "confusion_matrix = confusion_matrix(y_test,predict)\n",
        "recall = recall_score(y_test,predict)\n",
        "print(accuracy, precision,recall ,confusion_matrix)\n",
        "\n",
        "#Print Graphic\n",
        "#sns.countplot(x=\"HR\",y=\"respr\",col=\"Label\", hue=\"Label\",data=data)"
      ],
      "metadata": {
        "colab": {
          "base_uri": "https://localhost:8080/"
        },
        "id": "6ViTVbojcdm3",
        "outputId": "67102705-1492-4e46-f9b6-2b854de772bf"
      },
      "execution_count": 8,
      "outputs": [
        {
          "output_type": "stream",
          "name": "stdout",
          "text": [
            "0.6716652342708117 0.0 0.0 [[22664     0]\n",
            " [11079     0]]\n"
          ]
        },
        {
          "output_type": "stream",
          "name": "stderr",
          "text": [
            "/usr/local/lib/python3.10/dist-packages/sklearn/svm/_base.py:1244: ConvergenceWarning: Liblinear failed to converge, increase the number of iterations.\n",
            "  warnings.warn(\n",
            "/usr/local/lib/python3.10/dist-packages/sklearn/metrics/_classification.py:1344: UndefinedMetricWarning: Precision is ill-defined and being set to 0.0 due to no predicted samples. Use `zero_division` parameter to control this behavior.\n",
            "  _warn_prf(average, modifier, msg_start, len(result))\n"
          ]
        }
      ]
    },
    {
      "cell_type": "code",
      "source": [
        "##AdaBoostClassifier\n",
        "model = AdaBoostClassifier(n_estimators=200 ,random_state=0)\n",
        "model.fit(x_train,y_train)\n",
        "predict = model.predict(x_test)\n",
        "\n",
        "###Model Evaluation\n",
        "accuracy = accuracy_score(y_test,predict)\n",
        "precision = precision_score(y_test,predict)\n",
        "confusion_matrix = confusion_matrix(y_test,predict)\n",
        "recall = recall_score(y_test,predict)\n",
        "print(accuracy, precision,recall ,confusion_matrix)"
      ],
      "metadata": {
        "id": "80lBku7mXRKV",
        "colab": {
          "base_uri": "https://localhost:8080/"
        },
        "outputId": "c348b0a7-d188-4be7-b210-52a44149e698"
      },
      "execution_count": 10,
      "outputs": [
        {
          "output_type": "stream",
          "name": "stdout",
          "text": [
            "0.6812968615712889 0.5979505726341169 0.08953876703673616 [[21997   667]\n",
            " [10087   992]]\n"
          ]
        }
      ]
    },
    {
      "cell_type": "code",
      "source": [
        "##K-Nearest Neighbors\n",
        "model = KNeighborsClassifier(metric='euclidean', n_neighbors=50)\n",
        "model.fit(x_train,y_train)\n",
        "predict = model.predict(x_test)\n",
        "\n",
        "###Model Evaluation\n",
        "accuracy = accuracy_score(y_test,predict)\n",
        "precision = precision_score(y_test,predict)\n",
        "confusion_matrix = confusion_matrix(y_test,predict)\n",
        "recall = recall_score(y_test,predict)\n",
        "print(accuracy, precision,recall ,confusion_matrix)\n"
      ],
      "metadata": {
        "id": "lbE59aE_0N2a",
        "colab": {
          "base_uri": "https://localhost:8080/"
        },
        "outputId": "470095d0-74d4-4db1-e78c-7123d5a493c3"
      },
      "execution_count": 22,
      "outputs": [
        {
          "output_type": "stream",
          "name": "stdout",
          "text": [
            "0.7128885991168539 0.628013988588257 0.3079700333965159 [[20643  2021]\n",
            " [ 7667  3412]]\n"
          ]
        }
      ]
    }
  ]
}