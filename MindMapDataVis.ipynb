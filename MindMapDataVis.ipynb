{
  "nbformat": 4,
  "nbformat_minor": 0,
  "metadata": {
    "colab": {
      "provenance": [],
      "authorship_tag": "ABX9TyN7GU0mbw8cVkg56JM7QG6Z",
      "include_colab_link": true
    },
    "kernelspec": {
      "name": "python3",
      "display_name": "Python 3"
    },
    "language_info": {
      "name": "python"
    }
  },
  "cells": [
    {
      "cell_type": "markdown",
      "metadata": {
        "id": "view-in-github",
        "colab_type": "text"
      },
      "source": [
        "<a href=\"https://colab.research.google.com/github/RafaelNovais/MasterAI/blob/master/MindMapDataVis.ipynb\" target=\"_parent\"><img src=\"https://colab.research.google.com/assets/colab-badge.svg\" alt=\"Open In Colab\"/></a>"
      ]
    },
    {
      "cell_type": "code",
      "execution_count": null,
      "metadata": {
        "id": "J2hF1Zd1vh_V"
      },
      "outputs": [],
      "source": []
    },
    {
      "cell_type": "markdown",
      "source": [
        "# Data Visualisation\n",
        "\n",
        "DATA + VISUAL ENCONDING ELEMENTS =DATA VISUALISATION\n",
        "\n",
        "Types\n",
        "\n",
        "1.   Data Analysis\n",
        "\n",
        "      Outlier BoxPlot/Whisker\n",
        "\n",
        "\n",
        "2.   Discovery/Exploration\n",
        "\n",
        "      This is heatmap combined with two bargraphs\n",
        "      Audience = DataAnalysis Team\n",
        "      Extract Information from data\n",
        "    \n",
        "\n",
        "      2.1 Variation\n",
        "        Analyse and visualise the distributions of value of your variables\n",
        "        Box-Plot\n",
        "\n",
        "      2.2 Co Variation\n",
        "        Anaqlyse and visualise the correlatrtions between your variable\n",
        "        Scatterplot\n",
        "\n",
        "\n",
        "3.   Explanation\n",
        "\n",
        "    This is a diverging bar graph Very useful for showing how values diverge from a baseline value\n",
        "\n",
        "    Demostrate and present the outcome of your analysis or model to an external audience\n",
        "\n",
        "\n",
        "\n",
        "4.   Decision Making\n",
        "\n",
        "\n",
        "5.   Truthfulness\n",
        "\n",
        "\n",
        "\n",
        "\n",
        "\n",
        "# 4 Question to desing a visualisation\n",
        "\n",
        "1 - Does the audience have the background to understand the visualisation\n",
        "\n",
        "    Nothing\n",
        "    A Little\n",
        "    Something but not expert\n",
        "    A lot\n",
        "    Expert\n",
        "\n",
        "2 - How Much time have the audience got to digest/analisy you visualisation\n",
        "\n",
        "    Limited - Tv Show\n",
        "    \n",
        "    Unlimited Print\n",
        "\n",
        "3 - How much space do you have for your visualisation\n",
        "\n",
        "    Power Point Full Screen\n",
        "\n",
        "    Small Graphic in A4\n",
        "\n",
        "4 - Will someone be present to explain/Highlight the Visualisation\n",
        "\n",
        "    Yes    Can be explained\n",
        "    Maybe\n",
        "    No     More details\n",
        "\n",
        "\n",
        "\n"
      ],
      "metadata": {
        "id": "tGChfTJYzSa3"
      }
    }
  ]
}