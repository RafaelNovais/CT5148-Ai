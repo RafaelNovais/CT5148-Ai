{
  "cells": [
    {
      "cell_type": "markdown",
      "metadata": {
        "id": "view-in-github",
        "colab_type": "text"
      },
      "source": [
        "<a href=\"https://colab.research.google.com/github/RafaelNovais/MasterAI/blob/master/Assignment_2_NLP.ipynb\" target=\"_parent\"><img src=\"https://colab.research.google.com/assets/colab-badge.svg\" alt=\"Open In Colab\"/></a>"
      ]
    },
    {
      "cell_type": "markdown",
      "metadata": {
        "id": "QduU2Kt11Dyz"
      },
      "source": [
        "Before you turn this problem in, make sure everything runs as expected. First, **restart the kernel** (in the menubar, select Kernel $\\rightarrow$ Restart) and then **run all cells** (in the menubar, select Cell $\\rightarrow$ Run All).\n",
        "\n",
        "Make sure you fill in any place that says `YOUR CODE HERE` or \"YOUR ANSWER HERE\", as well as your name and collaborators below:"
      ]
    },
    {
      "cell_type": "code",
      "source": [
        "from google.colab import drive\n",
        "drive.mount('/content/drive')"
      ],
      "metadata": {
        "colab": {
          "base_uri": "https://localhost:8080/"
        },
        "id": "2PqLvA2oue6X",
        "outputId": "b8e8ada1-befb-421c-b27c-00c81a822978"
      },
      "execution_count": 1,
      "outputs": [
        {
          "output_type": "stream",
          "name": "stdout",
          "text": [
            "Mounted at /content/drive\n"
          ]
        }
      ]
    },
    {
      "cell_type": "code",
      "execution_count": 2,
      "metadata": {
        "id": "PraIPlwv1Dy0"
      },
      "outputs": [],
      "source": [
        "NAME = \"Rafael Novais de Melo = 23113607\"\n",
        "COLLABORATORS = \"\""
      ]
    },
    {
      "cell_type": "markdown",
      "metadata": {
        "id": "hEcEsWg91Dy0"
      },
      "source": [
        "---"
      ]
    },
    {
      "cell_type": "markdown",
      "metadata": {
        "deletable": false,
        "editable": false,
        "nbgrader": {
          "cell_type": "markdown",
          "checksum": "5b6c437abc6cb82c2a9409779f104db5",
          "grade": false,
          "grade_id": "jupyter",
          "locked": true,
          "schema_version": 3,
          "solution": false
        },
        "id": "v_IazbkE1Dy1"
      },
      "source": [
        "<img src=\"logo.png\" width=\"250\" height=\"250\">\n",
        "\n",
        "# CT5120/CT5146 Assignment 2\n",
        "\n",
        "This task is focused on sentiment classification and span extraction from tweets. Please complete this task and upload your answers to Canvas as an iPython Notebook ONLY.\n",
        "This assignment is due by 23:59 on November 18th 2024. Late submissions will be penalised by 1% for each day after this date. This is an individual assignment and your work must be your own.\n",
        "\n",
        "You may use libraries such as SciKit-Learn to complete this assignment.\n",
        "\n",
        "## Summary\n",
        "\n",
        "In this task, given a tweet (text) we have two objectives:\n",
        "\n",
        "1. Sentiment classification: Classify the tweet into one of three classes (positive, negative, neutral).\n",
        "\n",
        "2. Sentiment span extraction: Extract the sequence of words from the tweet that expresses the given sentiment.\n",
        "\n",
        "Consider the following example from the train dataset:\n",
        "\n",
        "| textID | text | selected_text | sentiment |\n",
        "| ------ | ---- | ------------- | --------- |\n",
        "| 266b8792a0 |Just broke my favorite necklace  superglue? | Just broke my favorite necklace | negative |\n",
        "| 8f3e73cf09 | \"Screw the reviews, I thought Wolverine was awesome. But not enough Dominic Monaghan for my liking.\" | I thought Wolverine was awesome. | positive |\n",
        "|... | ... | ... | ... |\n",
        "| 266b8792a0 |Just broke my favorite necklace  superglue? | Just broke my favorite necklace | negative |\n",
        "\n",
        "\n",
        "The dataset is divided into `train`, `dev` and `test` sets. The `train` set is used for the model training, while the `dev` set is used for validation and hyperparameter tuning."
      ]
    },
    {
      "cell_type": "code",
      "execution_count": 5,
      "metadata": {
        "deletable": false,
        "editable": false,
        "nbgrader": {
          "cell_type": "code",
          "checksum": "3de83a0740a4d1fee8db1ea5109a5cef",
          "grade": false,
          "grade_id": "cell-62012baa1c39642f",
          "locked": true,
          "schema_version": 3,
          "solution": false,
          "task": false
        },
        "id": "uxhx6cz-1Dy1",
        "colab": {
          "base_uri": "https://localhost:8080/"
        },
        "collapsed": true,
        "outputId": "5b7319fe-4775-498a-ce99-b146bba7d25d"
      },
      "outputs": [
        {
          "output_type": "stream",
          "name": "stdout",
          "text": [
            "Requirement already satisfied: pandas in /usr/local/lib/python3.10/dist-packages (2.2.2)\n",
            "Requirement already satisfied: numpy>=1.22.4 in /usr/local/lib/python3.10/dist-packages (from pandas) (1.26.4)\n",
            "Requirement already satisfied: python-dateutil>=2.8.2 in /usr/local/lib/python3.10/dist-packages (from pandas) (2.8.2)\n",
            "Requirement already satisfied: pytz>=2020.1 in /usr/local/lib/python3.10/dist-packages (from pandas) (2024.2)\n",
            "Requirement already satisfied: tzdata>=2022.7 in /usr/local/lib/python3.10/dist-packages (from pandas) (2024.2)\n",
            "Requirement already satisfied: six>=1.5 in /usr/local/lib/python3.10/dist-packages (from python-dateutil>=2.8.2->pandas) (1.16.0)\n",
            "Requirement already satisfied: matplotlib in /usr/local/lib/python3.10/dist-packages (3.7.1)\n",
            "Requirement already satisfied: contourpy>=1.0.1 in /usr/local/lib/python3.10/dist-packages (from matplotlib) (1.3.0)\n",
            "Requirement already satisfied: cycler>=0.10 in /usr/local/lib/python3.10/dist-packages (from matplotlib) (0.12.1)\n",
            "Requirement already satisfied: fonttools>=4.22.0 in /usr/local/lib/python3.10/dist-packages (from matplotlib) (4.54.1)\n",
            "Requirement already satisfied: kiwisolver>=1.0.1 in /usr/local/lib/python3.10/dist-packages (from matplotlib) (1.4.7)\n",
            "Requirement already satisfied: numpy>=1.20 in /usr/local/lib/python3.10/dist-packages (from matplotlib) (1.26.4)\n",
            "Requirement already satisfied: packaging>=20.0 in /usr/local/lib/python3.10/dist-packages (from matplotlib) (24.1)\n",
            "Requirement already satisfied: pillow>=6.2.0 in /usr/local/lib/python3.10/dist-packages (from matplotlib) (10.4.0)\n",
            "Requirement already satisfied: pyparsing>=2.3.1 in /usr/local/lib/python3.10/dist-packages (from matplotlib) (3.2.0)\n",
            "Requirement already satisfied: python-dateutil>=2.7 in /usr/local/lib/python3.10/dist-packages (from matplotlib) (2.8.2)\n",
            "Requirement already satisfied: six>=1.5 in /usr/local/lib/python3.10/dist-packages (from python-dateutil>=2.7->matplotlib) (1.16.0)\n",
            "\u001b[31mERROR: Could not find a version that satisfies the requirement scikit (from versions: none)\u001b[0m\u001b[31m\n",
            "\u001b[0m\u001b[31mERROR: No matching distribution found for scikit\u001b[0m\u001b[31m\n",
            "\u001b[0mRequirement already satisfied: gensim in /usr/local/lib/python3.10/dist-packages (4.3.3)\n",
            "Requirement already satisfied: numpy<2.0,>=1.18.5 in /usr/local/lib/python3.10/dist-packages (from gensim) (1.26.4)\n",
            "Requirement already satisfied: scipy<1.14.0,>=1.7.0 in /usr/local/lib/python3.10/dist-packages (from gensim) (1.13.1)\n",
            "Requirement already satisfied: smart-open>=1.8.1 in /usr/local/lib/python3.10/dist-packages (from gensim) (7.0.5)\n",
            "Requirement already satisfied: wrapt in /usr/local/lib/python3.10/dist-packages (from smart-open>=1.8.1->gensim) (1.16.0)\n"
          ]
        }
      ],
      "source": [
        "!pip install pandas\n",
        "!pip install matplotlib\n",
        "!pip install -U scikit\n",
        "!pip install gensim"
      ]
    },
    {
      "cell_type": "code",
      "execution_count": 6,
      "metadata": {
        "id": "Dd6stsoD1Dy1"
      },
      "outputs": [],
      "source": [
        "import pandas as pd\n",
        "from matplotlib import pyplot as plt\n",
        "import numpy as np\n",
        "import inspect\n",
        "import re\n",
        "import gensim.downloader\n",
        "from sklearn.ensemble import AdaBoostClassifier"
      ]
    },
    {
      "cell_type": "code",
      "execution_count": 9,
      "metadata": {
        "id": "ydYLudh61Dy1",
        "colab": {
          "base_uri": "https://localhost:8080/"
        },
        "outputId": "2c0ae178-4abd-4db4-a61b-7ce45d6465a1"
      },
      "outputs": [
        {
          "output_type": "execute_result",
          "data": {
            "text/plain": [
              "Index(['textID', 'text', 'selected_text', 'sentiment'], dtype='object')"
            ]
          },
          "metadata": {},
          "execution_count": 9
        }
      ],
      "source": [
        "train_df = pd.read_csv('/content/drive/MyDrive/Colab Notebooks/NLP/train.csv')\n",
        "dev_df = pd.read_csv('/content/drive/MyDrive/Colab Notebooks/NLP/dev.csv')\n",
        "test_df  = pd.read_csv('/content/drive/MyDrive/Colab Notebooks/NLP/test.csv')\n",
        "train_df.columns"
      ]
    },
    {
      "cell_type": "markdown",
      "metadata": {
        "deletable": false,
        "editable": false,
        "nbgrader": {
          "cell_type": "markdown",
          "checksum": "cefd63e06b4431585206875dfb97efef",
          "grade": false,
          "grade_id": "data_analysis_0",
          "locked": true,
          "schema_version": 3,
          "solution": false,
          "task": false
        },
        "id": "nnXkjxML1Dy1"
      },
      "source": [
        "---\n",
        "# 1. Data Analysis"
      ]
    },
    {
      "cell_type": "markdown",
      "metadata": {
        "deletable": false,
        "editable": false,
        "nbgrader": {
          "cell_type": "markdown",
          "checksum": "f2e645d2dfcad2f6be736ed21f42f943",
          "grade": false,
          "grade_id": "data_analysis_1",
          "locked": true,
          "schema_version": 3,
          "solution": false,
          "task": false
        },
        "id": "_MB5kINe1Dy1"
      },
      "source": [
        "## Task 1a\n",
        "`(5 Marks)`\n",
        "\n"
      ]
    },
    {
      "cell_type": "code",
      "execution_count": 38,
      "metadata": {
        "deletable": false,
        "nbgrader": {
          "cell_type": "code",
          "checksum": "575aaced8d7fbdba5c5fd3a93b99868f",
          "grade": false,
          "grade_id": "class_frequency",
          "locked": false,
          "schema_version": 3,
          "solution": true,
          "task": false
        },
        "id": "7cPRpZbG1Dy2"
      },
      "outputs": [],
      "source": [
        "\n",
        "def class_frequency(train_df, dev_df):\n",
        "    \"\"\"\n",
        "    This function should takes train and dev dataframe and returns a dictionary where:\n",
        "\n",
        "    Keys = sentiment labels i.e. {negative, positive, neutral}\n",
        "    Values = (count of Key in train_df, count of Key in dev_df)\n",
        "    Arguments:\n",
        "    train_df: DataFrame for training dataset\n",
        "    dev_df: DataFrame for dev dataset\n",
        "\n",
        "    Returns\n",
        "    (order does not matter)\n",
        "    {\n",
        "    'negative': (no_in_train, no_in_dev),\n",
        "    'positive': (no_in_train, no_in_dev),\n",
        "    'neutral':  (no_in_train, no_in_dev)\n",
        "    }\n",
        "\n",
        "    \"\"\"\n",
        "    # YOUR CODE HERE\n",
        "    sentiment_labels = train_df['sentiment'].unique()\n",
        "    #print(sentiment_labels)\n",
        "    sentiment_counts = {}\n",
        "\n",
        "    for label in sentiment_labels:\n",
        "        train_count = train_df[train_df['sentiment'] == label].shape[0]\n",
        "        dev_count = dev_df[dev_df['sentiment'] == label].shape[0]\n",
        "        sentiment_counts[label] = (train_count, dev_count)\n",
        "\n",
        "    print(sentiment_counts)\n",
        "    return sentiment_counts\n",
        "\n",
        "    raise NotImplementedError()"
      ]
    },
    {
      "cell_type": "code",
      "execution_count": 39,
      "metadata": {
        "deletable": false,
        "editable": false,
        "nbgrader": {
          "cell_type": "code",
          "checksum": "11491561cb8a0efc8dd0afd1d7c443f6",
          "grade": true,
          "grade_id": "correct_output_type",
          "locked": true,
          "points": 2,
          "schema_version": 3,
          "solution": false,
          "task": false
        },
        "id": "1zC9BVLk1Dy2",
        "colab": {
          "base_uri": "https://localhost:8080/"
        },
        "outputId": "45ebb0fc-07f4-42a2-9726-4115f048f572"
      },
      "outputs": [
        {
          "output_type": "stream",
          "name": "stdout",
          "text": [
            "{'negative': (6025, 317), 'positive': (6644, 350), 'neutral': (8608, 453)}\n"
          ]
        }
      ],
      "source": [
        "\"\"\"Check that squares returns the correct output for several inputs\"\"\"\n",
        "class_freq_outputs = class_frequency(train_df, dev_df)\n",
        "assert len(class_freq_outputs) == 3\n",
        "assert set(class_freq_outputs) == set(['negative', 'positive', 'neutral'])\n",
        "\n"
      ]
    },
    {
      "cell_type": "markdown",
      "metadata": {
        "deletable": false,
        "editable": false,
        "nbgrader": {
          "cell_type": "markdown",
          "checksum": "850ab40b50da48d6a777aa9da48774ae",
          "grade": false,
          "grade_id": "bar_viz_instructions",
          "locked": true,
          "schema_version": 3,
          "solution": false,
          "task": false
        },
        "id": "P0BmoF-z1Dy2"
      },
      "source": [
        "# TASK 1B\n",
        "Plot a group bar plot to show the distribution of sentiment classes (positive, negative, neutral) in the train and dev dataset.\n",
        "\n",
        "As shown in the following illustration. `(10 marks)`\n",
        "    \n",
        "    \n",
        "   <img src=\"https://github.com/gauneg/gauneg.github.io/blob/main/ds1.jpg?raw=true\" alt=\"PLOT EXAMPLE\" width=\"400px\"/>"
      ]
    },
    {
      "cell_type": "code",
      "execution_count": 37,
      "metadata": {
        "deletable": false,
        "nbgrader": {
          "cell_type": "code",
          "checksum": "0db9554dd86f21482fd6fa5653da26c3",
          "grade": true,
          "grade_id": "bar_graph_viz",
          "locked": false,
          "points": 10,
          "schema_version": 3,
          "solution": true,
          "task": false
        },
        "id": "bn4I21fj1Dy2",
        "colab": {
          "base_uri": "https://localhost:8080/",
          "height": 509
        },
        "outputId": "705b6836-1e8d-4bf0-e82b-95c3468a235f"
      },
      "outputs": [
        {
          "output_type": "stream",
          "name": "stdout",
          "text": [
            "{'negative': (6025, 317), 'positive': (6644, 350), 'neutral': (8608, 453)}\n"
          ]
        },
        {
          "output_type": "execute_result",
          "data": {
            "text/plain": [
              "<matplotlib.legend.Legend at 0x7f693aab20b0>"
            ]
          },
          "metadata": {},
          "execution_count": 37
        },
        {
          "output_type": "display_data",
          "data": {
            "text/plain": [
              "<Figure size 640x480 with 1 Axes>"
            ],
            "image/png": "[encoded data removed]"
          },
          "metadata": {}
        }
      ],
      "source": [
        "# YOUR CODE HERE\n",
        "class_freq_outputs = class_frequency(train_df, dev_df)\n",
        "categories = list(class_freq_outputs.keys())\n",
        "train_counts = [counts[0] for counts in class_freq_outputs.values()]\n",
        "dev_counts = [counts[1] for counts in class_freq_outputs.values()]\n",
        "\n",
        "x = np.arange(len(categories))\n",
        "\n",
        "fig, ax = plt.subplots()\n",
        "\n",
        "width = 0.35\n",
        "bars1 = ax.bar(x - width/2, train_counts, width, label='Train Dataset')\n",
        "bars2 = ax.bar(x + width/2, dev_counts, width, label='Dev Dataset')\n",
        "\n",
        "ax.set_xlabel('Sentiment Classes')\n",
        "ax.set_ylabel('Counts')\n",
        "ax.set_title('Distribution of Sentiment Classes in Train and Dev Datasets')\n",
        "ax.set_xticks(x)\n",
        "ax.set_xticklabels(categories)\n",
        "ax.legend()\n",
        "\n",
        "\n"
      ]
    },
    {
      "cell_type": "markdown",
      "metadata": {
        "deletable": false,
        "editable": false,
        "nbgrader": {
          "cell_type": "markdown",
          "checksum": "13811fc382a610ee856b33b7ba75bd53",
          "grade": false,
          "grade_id": "senti_task_2a",
          "locked": true,
          "schema_version": 3,
          "solution": false,
          "task": false
        },
        "id": "F1e5yRrg1Dy2"
      },
      "source": [
        "---\n",
        "# 2. Sentiment Classification\n",
        "\n",
        "## Task 2a\n",
        "\n",
        "Train a sequence classification model. The model should take the `text` as input and return one out of 3 sentiment classes: `negative`, `neutral` or `positive`.\n",
        "\n",
        "<img src=\"https://github.com/gauneg/gauneg.github.io/blob/main/sentiment_classification.png?raw=true\" alt=\"PLOT EXAMPLE\" width=\"500px\"/>\n",
        "\n",
        "INPUT : (`text`)\n",
        "\n",
        "OUTPUT: `sentiment_class` i.e. one class from `(positive, negative, neutral)`\n",
        "\n",
        "\n",
        "* You should have the data in the training and development sets and extract feature vectors using TF-IDF. `(10 marks)`\n",
        "* The number of features in tfidf encoded data should be 1024\n",
        "\n"
      ]
    },
    {
      "cell_type": "code",
      "execution_count": 56,
      "metadata": {
        "deletable": false,
        "nbgrader": {
          "cell_type": "code",
          "checksum": "fae60101db8ab6bfa9b6f489a13d5d43",
          "grade": false,
          "grade_id": "split_dataset",
          "locked": false,
          "schema_version": 3,
          "solution": true,
          "task": false
        },
        "id": "egFb7n_81Dy2"
      },
      "outputs": [],
      "source": [
        "from sklearn.feature_extraction.text import TfidfVectorizer\n",
        "from sklearn.preprocessing import LabelEncoder\n",
        "\n",
        "def extract_features(train_df, dev_df, test_df):\n",
        "    \"\"\"This function takes the dataframes for training, testing and validation and\n",
        "        returns encoded features and the labels required to train the models\n",
        "\n",
        "        X_train = [training TFIDF features]\n",
        "        X_dev = [validation TFIDF features]\n",
        "        X_test = [test TFIDF features]\n",
        "\n",
        "        y_train= [lab_1, lab_2 , ..., lab_n]\n",
        "        y_test= [lab_1, lab_2 , ..., lab_n]\n",
        "        y_dev = [lab_1, lab_2 , ..., lab_n]\n",
        "    \"\"\"\n",
        "    # YOUR CODE HERE\n",
        "    train_df['text'] = train_df['text'].fillna('')\n",
        "    dev_df['text'] = dev_df['text'].fillna('')\n",
        "    test_df['text'] = test_df['text'].fillna('')\n",
        "\n",
        "    vectorizer = TfidfVectorizer(max_features=1024)\n",
        "    vectorizer.fit(train_df['text'])\n",
        "\n",
        "    X_train = vectorizer.transform(train_df['text'])\n",
        "    X_dev = vectorizer.transform(dev_df['text'])\n",
        "    X_test = vectorizer.transform(test_df['text'])\n",
        "\n",
        "    label_encoder = LabelEncoder()\n",
        "\n",
        "    y_train = label_encoder.fit_transform(train_df['sentiment'])\n",
        "    y_dev = label_encoder.transform(dev_df['sentiment'])\n",
        "    y_test = label_encoder.transform(test_df['sentiment'])\n",
        "\n",
        "\n",
        "    print((X_train, y_train), (X_dev, y_dev), (X_test, y_test))\n",
        "    return (X_train, y_train), (X_dev, y_dev), (X_test, y_test)\n",
        "\n",
        "\n",
        "\n",
        "    raise NotImplementedError()\n"
      ]
    },
    {
      "cell_type": "code",
      "execution_count": 57,
      "metadata": {
        "id": "FCKSOoea1Dy2",
        "colab": {
          "base_uri": "https://localhost:8080/"
        },
        "outputId": "836f4503-0569-4267-e8bc-a1ab5212391b"
      },
      "outputs": [
        {
          "output_type": "stream",
          "name": "stdout",
          "text": [
            "(<21277x1024 sparse matrix of type '<class 'numpy.float64'>'\n",
            "\twith 190376 stored elements in Compressed Sparse Row format>, array([0, 2, 1, ..., 0, 1, 2])) (<1120x1024 sparse matrix of type '<class 'numpy.float64'>'\n",
            "\twith 9928 stored elements in Compressed Sparse Row format>, array([1, 1, 1, ..., 2, 2, 0])) (<5084x1024 sparse matrix of type '<class 'numpy.float64'>'\n",
            "\twith 45327 stored elements in Compressed Sparse Row format>, array([1, 2, 2, ..., 0, 1, 1]))\n"
          ]
        }
      ],
      "source": [
        "(train_x, train_y), (dev_x, dev_y), (test_x, test_y) = extract_features(train_df, dev_df, test_df)"
      ]
    },
    {
      "cell_type": "code",
      "execution_count": null,
      "metadata": {
        "deletable": false,
        "editable": false,
        "nbgrader": {
          "cell_type": "code",
          "checksum": "3e503f02476473d8880867d257733e94",
          "grade": true,
          "grade_id": "split_ds_funct_check",
          "locked": true,
          "points": 5,
          "schema_version": 3,
          "solution": false,
          "task": false
        },
        "id": "T23-nr9T1Dy2"
      },
      "outputs": [],
      "source": [
        "funct_text = inspect.getsource(extract_features)\n",
        "\n",
        "funct_text_no_multiline_comment = re.sub(r'\"\"\".*?\"\"\"', '', funct_text, flags=re.DOTALL)\n",
        "\n",
        "funct_no_comment = re.sub(r'^\\s*#.*$', '', funct_text_no_multiline_comment, flags=re.MULTILINE)\n",
        "\n",
        "n_fit = re.findall(r'\\.fit.*\\s', funct_no_comment)\n",
        "\n",
        "assert len(n_fit) == 1\n"
      ]
    },
    {
      "cell_type": "code",
      "execution_count": 53,
      "metadata": {
        "deletable": false,
        "editable": false,
        "nbgrader": {
          "cell_type": "code",
          "checksum": "50512fdf36c4b0111cb569e8105dcb0c",
          "grade": true,
          "grade_id": "split_ds_funct_shape",
          "locked": true,
          "points": 5,
          "schema_version": 3,
          "solution": false,
          "task": false
        },
        "id": "19lsC3mZ1Dy2"
      },
      "outputs": [],
      "source": [
        "assert train_x.shape[0] == train_df.shape[0]\n",
        "assert dev_x.shape[0] == dev_df.shape[0]\n",
        "assert test_x.shape[0] == test_df.shape[0]\n",
        "\n"
      ]
    },
    {
      "cell_type": "markdown",
      "metadata": {
        "deletable": false,
        "editable": false,
        "nbgrader": {
          "cell_type": "markdown",
          "checksum": "2946982327ec76f13ef15dd2accc582d",
          "grade": false,
          "grade_id": "svm_train",
          "locked": true,
          "schema_version": 3,
          "solution": false,
          "task": false
        },
        "id": "wqSuugpP1Dy2"
      },
      "source": [
        "---\n",
        "* Using these features please train a classifier using a method such Support Vector Machines (SVM) `(10 marks)`"
      ]
    },
    {
      "cell_type": "code",
      "execution_count": 58,
      "metadata": {
        "deletable": false,
        "nbgrader": {
          "cell_type": "code",
          "checksum": "93dc0a324bec247a37c0cf1f8feea584",
          "grade": false,
          "grade_id": "svm_train_a1",
          "locked": false,
          "schema_version": 3,
          "solution": true,
          "task": false
        },
        "id": "QvHANCC21Dy2"
      },
      "outputs": [],
      "source": [
        "from sklearn.svm import SVC\n",
        "\n",
        "def get_model(train_x, train_y):\n",
        "    # YOUR CODE HERE\n",
        "    model = SVC(kernel='linear', C=1.0, random_state=42)\n",
        "    model.fit(train_x, train_y)\n",
        "    return model\n",
        "\n",
        "\n",
        "    raise NotImplementedError()\n"
      ]
    },
    {
      "cell_type": "code",
      "execution_count": 59,
      "metadata": {
        "deletable": false,
        "editable": false,
        "nbgrader": {
          "cell_type": "code",
          "checksum": "297507727a108a2359081827830b02a4",
          "grade": false,
          "grade_id": "svm_train_ro1",
          "locked": true,
          "schema_version": 3,
          "solution": false,
          "task": false
        },
        "id": "Q-pe5rhO1Dy2"
      },
      "outputs": [],
      "source": [
        "model = get_model(train_x, train_y)"
      ]
    },
    {
      "cell_type": "code",
      "execution_count": 60,
      "metadata": {
        "deletable": false,
        "editable": false,
        "nbgrader": {
          "cell_type": "code",
          "checksum": "075b2ec6e7485e6a1d3001f7e29c0fb7",
          "grade": true,
          "grade_id": "svm_train_t1",
          "locked": true,
          "points": 3,
          "schema_version": 3,
          "solution": false,
          "task": false
        },
        "id": "akqi05iC1Dy2"
      },
      "outputs": [],
      "source": [
        "model_type = str(type(model))\n",
        "assert 'sklearn' in model_type\n",
        "assert 'svm' in model_type"
      ]
    },
    {
      "cell_type": "code",
      "execution_count": 61,
      "metadata": {
        "deletable": false,
        "nbgrader": {
          "cell_type": "code",
          "checksum": "f7c3949b9860cfa8ec6a1956e06878ab",
          "grade": false,
          "grade_id": "svm_train_a2",
          "locked": false,
          "schema_version": 3,
          "solution": true,
          "task": false
        },
        "id": "l_F_WWiP1Dy2"
      },
      "outputs": [],
      "source": [
        "def make_predictions_on_test(test_x, model):\n",
        "    # YOUR CODE HERE\n",
        "\n",
        "    predictions = model.predict(test_x)\n",
        "    return predictions\n",
        "\n",
        "    raise NotImplementedError()\n"
      ]
    },
    {
      "cell_type": "code",
      "execution_count": 62,
      "metadata": {
        "deletable": false,
        "editable": false,
        "nbgrader": {
          "cell_type": "code",
          "checksum": "5251fa088584d8164b1e44c6bada5a7c",
          "grade": false,
          "grade_id": "svm_train_ro2",
          "locked": true,
          "schema_version": 3,
          "solution": false,
          "task": false
        },
        "id": "G62WlI-h1Dy2"
      },
      "outputs": [],
      "source": [
        "pred_y = make_predictions_on_test(test_x, model)"
      ]
    },
    {
      "cell_type": "code",
      "execution_count": 63,
      "metadata": {
        "deletable": false,
        "editable": false,
        "nbgrader": {
          "cell_type": "code",
          "checksum": "fad8441684147054e456fc78d0a50e10",
          "grade": true,
          "grade_id": "svm_train_t2",
          "locked": true,
          "points": 2,
          "schema_version": 3,
          "solution": false,
          "task": false
        },
        "id": "UYCCwcSB1Dy3"
      },
      "outputs": [],
      "source": [
        "assert len(pred_y) == test_y.shape[0]\n"
      ]
    },
    {
      "cell_type": "code",
      "execution_count": 64,
      "metadata": {
        "deletable": false,
        "nbgrader": {
          "cell_type": "code",
          "checksum": "95895691752e2cdb6446213c3b0a9549",
          "grade": false,
          "grade_id": "svm_train_a3",
          "locked": false,
          "schema_version": 3,
          "solution": true,
          "task": false
        },
        "id": "X3fOh-pN1Dy3"
      },
      "outputs": [],
      "source": [
        "from sklearn.metrics import precision_score, recall_score, f1_score\n",
        "\n",
        "def calc_pre_recall_f1(pred_y, test_y):\n",
        "    # YOUR CODE HERE\n",
        "\n",
        "    precision = precision_score(test_y, pred_y, average='weighted')  # Adjust average method as needed\n",
        "    recall = recall_score(test_y, pred_y, average='weighted')\n",
        "    f1 = f1_score(test_y, pred_y, average='weighted')\n",
        "\n",
        "    return precision, recall, f1\n",
        "    raise NotImplementedError()\n"
      ]
    },
    {
      "cell_type": "code",
      "execution_count": 65,
      "metadata": {
        "deletable": false,
        "editable": false,
        "nbgrader": {
          "cell_type": "code",
          "checksum": "ed983600b482a224ed2137b94ac8576a",
          "grade": false,
          "grade_id": "svm_train_ro3",
          "locked": true,
          "schema_version": 3,
          "solution": false,
          "task": false
        },
        "id": "pGOJemSx1Dy3"
      },
      "outputs": [],
      "source": [
        "prec_mac_svm, rec_mac_svm, f1_mac_svm = calc_pre_recall_f1(pred_y, test_y)"
      ]
    },
    {
      "cell_type": "code",
      "execution_count": 66,
      "metadata": {
        "deletable": false,
        "editable": false,
        "nbgrader": {
          "cell_type": "code",
          "checksum": "6edb90a430a3b333f3c9f3ee22f54aa2",
          "grade": true,
          "grade_id": "svm_train_t3",
          "locked": true,
          "points": 5,
          "schema_version": 3,
          "solution": false,
          "task": false
        },
        "id": "bRxVW3gt1Dy3"
      },
      "outputs": [],
      "source": [
        "assert prec_mac_svm <= 1.0\n",
        "assert prec_mac_svm > 0.0\n",
        "\n",
        "assert rec_mac_svm <= 1.0\n",
        "assert rec_mac_svm > 0.0\n",
        "\n",
        "assert f1_mac_svm <= 1.0\n",
        "assert f1_mac_svm > 0.0"
      ]
    },
    {
      "cell_type": "code",
      "execution_count": null,
      "metadata": {
        "deletable": false,
        "editable": false,
        "nbgrader": {
          "cell_type": "code",
          "checksum": "eff291329288e298501587c51efb1992",
          "grade": true,
          "grade_id": "svm_train_t4",
          "locked": true,
          "points": 5,
          "schema_version": 3,
          "solution": false,
          "task": false
        },
        "id": "aof8oHrp1Dy3"
      },
      "outputs": [],
      "source": [
        "# DO NOT DELETE !!!"
      ]
    },
    {
      "cell_type": "markdown",
      "metadata": {
        "deletable": false,
        "editable": false,
        "nbgrader": {
          "cell_type": "markdown",
          "checksum": "89e9154ac74caeee02672a13518b0f06",
          "grade": false,
          "grade_id": "ml_improve_ps1",
          "locked": true,
          "schema_version": 3,
          "solution": false,
          "task": false
        },
        "id": "a28ZCEW91Dy3"
      },
      "source": [
        "## Task 2c\n",
        "\n",
        "Based on the methods discussed in the lecture suggest **ONE** improvement or alternative approach that can be applied to the sentiment classification task as in Task 2a. This may be through better feature extraction, new modelling or through an alternaitve methodology.\n",
        "\n",
        "You should implement this approach and compare the results using the evaluation from Task 2b.\n",
        "\n",
        "Provide an **explanation** of your approach in no more than 100 words.\n",
        "\n",
        "`(20 marks)`"
      ]
    },
    {
      "cell_type": "markdown",
      "metadata": {
        "deletable": false,
        "editable": false,
        "nbgrader": {
          "cell_type": "markdown",
          "checksum": "2ea35c56d885b26e9e6e9450e95c6a6e",
          "grade": false,
          "grade_id": "ml_improve_mg1",
          "locked": true,
          "points": 10,
          "schema_version": 3,
          "solution": false,
          "task": true
        },
        "id": "Tr5LA5cK1Dy3"
      },
      "source": [
        "## Explanation for Task\n",
        "\n",
        "```\n",
        "Put your explanation for task 2c here\n",
        "\n",
        "```"
      ]
    },
    {
      "cell_type": "code",
      "execution_count": null,
      "metadata": {
        "deletable": false,
        "nbgrader": {
          "cell_type": "code",
          "checksum": "f41d0b07de334a590b3ffcfc8371f253",
          "grade": false,
          "grade_id": "ml_improve_a1",
          "locked": false,
          "schema_version": 3,
          "solution": true,
          "task": false
        },
        "id": "bf4EnxFw1Dy3"
      },
      "outputs": [],
      "source": [
        "def improved_predictions(train_x, train_y, test_x):\n",
        "    \"\"\"\n",
        "    implement an improved method for task 2a:\n",
        "    1. This method should take train_x, train_y used earlier and perform learning steps.\n",
        "    2. These would be the implementation of the aforementioned explanation.\n",
        "    3. Then it should use the test_x to return the predictions of the classification problem\n",
        "    \"\"\"\n",
        "\n",
        "    # YOUR CODE HERE\n",
        "    raise NotImplementedError()\n"
      ]
    },
    {
      "cell_type": "code",
      "execution_count": null,
      "metadata": {
        "deletable": false,
        "editable": false,
        "nbgrader": {
          "cell_type": "code",
          "checksum": "317747572259169577dbe995b9c454a7",
          "grade": true,
          "grade_id": "ml_improve_t1",
          "locked": true,
          "points": 5,
          "schema_version": 3,
          "solution": false,
          "task": false
        },
        "id": "uhTXlAG_1Dy3"
      },
      "outputs": [],
      "source": [
        "y_pred_improved = improved_predictions(train_x, train_y, test_x)\n",
        "assert len(y_pred_improved) == test_y.shape[0]\n",
        "assert all([y in set(test_y) for y in set(y_pred_improved)])"
      ]
    },
    {
      "cell_type": "code",
      "execution_count": null,
      "metadata": {
        "deletable": false,
        "editable": false,
        "nbgrader": {
          "cell_type": "code",
          "checksum": "acbd2c6c87a65dd1071339bc67460946",
          "grade": true,
          "grade_id": "ml_impove_t2",
          "locked": true,
          "points": 5,
          "schema_version": 3,
          "solution": false,
          "task": false
        },
        "id": "qnwWxeSf1Dy3"
      },
      "outputs": [],
      "source": [
        "prec_mac_improv, rec_mac_improv, f1_mac_improv = calc_pre_recall_f1(y_pred_improved, test_y)\n",
        "# DO NOT DELETE THIS CELL !!!"
      ]
    },
    {
      "cell_type": "markdown",
      "metadata": {
        "deletable": false,
        "editable": false,
        "nbgrader": {
          "cell_type": "markdown",
          "checksum": "792a8c08ea4531ea7e47d1f4f89f1375",
          "grade": false,
          "grade_id": "span_extraction_task",
          "locked": true,
          "schema_version": 3,
          "solution": false,
          "task": false
        },
        "id": "7ATstmRm1Dy3"
      },
      "source": [
        "# 3. Span Extraction\n",
        "## Task 3a\n",
        "\n",
        "\n",
        "Our goal for this task is to extract the sentiment span, given the text and the given sentiment (true sentiment label) as input. The sentiment span is a subsection of the text that expresses the sentiment that classifies the text overall.\n",
        "\n",
        "INPUT : (`text`, `sentiment`)\n",
        "\n",
        "OUTPUT: `selected_text`\n",
        "\n",
        "<img src=\"https://github.com/gauneg/gauneg.github.io/blob/main/assignment_diag.png?raw=true\" alt=\"PLOT EXAMPLE\" width=\"500px\"/>\n",
        "\n",
        "1. Describe in no more than 200 words a system that could be used to identify the sentiment span. You should consider the methodology potentially including how features are extracted, what models could be used and what procedures should be used to train the model. `(10 marks)`"
      ]
    },
    {
      "cell_type": "markdown",
      "metadata": {
        "deletable": false,
        "editable": false,
        "nbgrader": {
          "cell_type": "markdown",
          "checksum": "2d71e83fba4ba286a0d6fdd63cb8cae1",
          "grade": false,
          "grade_id": "mg31",
          "locked": true,
          "points": 10,
          "schema_version": 3,
          "solution": false,
          "task": true
        },
        "id": "GGjlKLlH1Dy3"
      },
      "source": [
        "## 200 words description in this cell (EDIT THIS)"
      ]
    },
    {
      "cell_type": "markdown",
      "metadata": {
        "deletable": false,
        "editable": false,
        "nbgrader": {
          "cell_type": "markdown",
          "checksum": "2fd1ddee82d2035d5510bda86d80e0df",
          "grade": false,
          "grade_id": "span_extraction_t2",
          "locked": true,
          "schema_version": 3,
          "solution": false,
          "task": false
        },
        "id": "q6fMnvoz1Dy4"
      },
      "source": [
        "---\n",
        "2. Implement this system and apply it to the train and development splits of the dataset. `(15 marks)`"
      ]
    },
    {
      "cell_type": "code",
      "execution_count": null,
      "metadata": {
        "deletable": false,
        "nbgrader": {
          "cell_type": "code",
          "checksum": "ced89537ea104fabfbefb8cf6133b44b",
          "grade": true,
          "grade_id": "span_extracton_impl",
          "locked": false,
          "points": 15,
          "schema_version": 3,
          "solution": true,
          "task": false
        },
        "id": "q6WIrW9Z1Dy4"
      },
      "outputs": [],
      "source": [
        "# YOUR CODE HERE\n",
        "raise NotImplementedError()"
      ]
    },
    {
      "cell_type": "markdown",
      "metadata": {
        "deletable": false,
        "editable": false,
        "nbgrader": {
          "cell_type": "markdown",
          "checksum": "a6173d25847354bc2d1f0595322fc079",
          "grade": false,
          "grade_id": "span_extract_metrics",
          "locked": true,
          "schema_version": 3,
          "solution": false,
          "task": false
        },
        "id": "72dqRpqG1Dy4"
      },
      "source": [
        "---\n",
        "## Task 3b\n",
        "\n",
        "1. Describe an automatic metric that can be used to evaluate the task of span extraction. Implement this metric and use it to evaluate the performance of the system you developed in Task 3a. `(5 marks + 10 mark)`"
      ]
    },
    {
      "cell_type": "markdown",
      "metadata": {
        "deletable": false,
        "editable": false,
        "nbgrader": {
          "cell_type": "markdown",
          "checksum": "317e0d065d956e9b39d9ce3c01d42024",
          "grade": false,
          "grade_id": "span_extraction_description",
          "locked": true,
          "points": 5,
          "schema_version": 3,
          "solution": false,
          "task": true
        },
        "id": "Fpc782mS1Dy4"
      },
      "source": [
        "### Description Goes HERE"
      ]
    },
    {
      "cell_type": "code",
      "execution_count": null,
      "metadata": {
        "deletable": false,
        "nbgrader": {
          "cell_type": "code",
          "checksum": "908e401258b16b0815e15d3584daf594",
          "grade": false,
          "grade_id": "span_extraction_impl",
          "locked": false,
          "schema_version": 3,
          "solution": true,
          "task": false
        },
        "id": "E6n9DUqB1Dy4"
      },
      "outputs": [],
      "source": [
        "# YOUR CODE HERE\n",
        "raise NotImplementedError()"
      ]
    }
  ],
  "metadata": {
    "kernelspec": {
      "display_name": "Python 3 (ipykernel)",
      "language": "python",
      "name": "python3"
    },
    "language_info": {
      "codemirror_mode": {
        "name": "ipython",
        "version": 3
      },
      "file_extension": ".py",
      "mimetype": "text/x-python",
      "name": "python",
      "nbconvert_exporter": "python",
      "pygments_lexer": "ipython3",
      "version": "3.9.20"
    },
    "colab": {
      "provenance": [],
      "include_colab_link": true
    }
  },
  "nbformat": 4,
  "nbformat_minor": 0
}