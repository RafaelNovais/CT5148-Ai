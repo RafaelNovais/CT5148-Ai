{
  "nbformat": 4,
  "nbformat_minor": 0,
  "metadata": {
    "colab": {
      "provenance": [],
      "authorship_tag": "ABX9TyPgXysPkz31OB19/hsanP9k",
      "include_colab_link": true
    },
    "kernelspec": {
      "name": "python3",
      "display_name": "Python 3"
    },
    "language_info": {
      "name": "python"
    }
  },
  "cells": [
    {
      "cell_type": "markdown",
      "metadata": {
        "id": "view-in-github",
        "colab_type": "text"
      },
      "source": [
        "<a href=\"https://colab.research.google.com/github/RafaelNovais/MasterAI/blob/master/AgentsMindMap.ipynb\" target=\"_parent\"><img src=\"https://colab.research.google.com/assets/colab-badge.svg\" alt=\"Open In Colab\"/></a>"
      ]
    },
    {
      "cell_type": "code",
      "execution_count": null,
      "metadata": {
        "id": "lG4TWFg7aow8"
      },
      "outputs": [],
      "source": []
    },
    {
      "cell_type": "markdown",
      "source": [
        "#Agents\n",
        "\n",
        "  * An agent is a computer system that is capable of  independent action on behalf of its user or owner (figuring out what needs to be done to satisfy design objectives, rather than constantly being told)\n",
        "\n",
        "**Autonomous Systems**\n",
        "\n",
        "  * are software programs which respond to states and events in their environment independent from direct instruction by the user or owner of the agent, but acting on behalf and in the interest of the owner.\n",
        "  * Is a selfish/autonomus/individual interaction but in a colective process based in the envairoment, the action of 1 start the next one Bee ex.\n",
        "  * An autonomous agent is an intelligent agent operating on an owner's behalf but without any interference of that ownership entity.\n",
        "\n",
        "\n",
        "\n",
        "# Multiagent Systems\n",
        "  * A multiagent system is one that consists of a number of agents, which interact with one-another more then one agent\n",
        "  * In the most general case, agents will be acting on behalf of users with different goals and motivations\n",
        "  * To successfully interact, they will require the ability to cooperate, coordinate, and negotiate with each other, much as people do\n",
        "\n",
        "**Agent Design, Society Design**\n",
        "  * How do we build agents capable of independent, autonomous action, so that\n",
        "they can successfully carry out tasks we delegate to them\n",
        "  * How do we build agents that are capable of interacting (cooperating,\n",
        "coordinating, negotiating) with other agents in order to successfully carry out\n",
        "those delegated tasks, especially when the other agents cannot be assumed\n",
        "to share the same interests/goals\n",
        "\n",
        "\n",
        "**An intelligent agent is a computer system capable of flexible autonomous action in some environment**\n",
        "* By flexible, we mean:\n",
        "  * reactive\n",
        "  * pro-active\n",
        "  * social\n",
        "\n",
        "\n",
        "\n",
        "\n",
        "\n",
        "\n",
        "\n",
        "\n",
        "\n",
        "\n",
        "\n",
        "\n",
        "\n",
        "\n",
        "\n",
        "\n",
        "\n",
        "\n",
        "\n",
        "\n",
        "\n",
        "\n"
      ],
      "metadata": {
        "id": "YTczAE3daw0X"
      }
    }
  ]
}