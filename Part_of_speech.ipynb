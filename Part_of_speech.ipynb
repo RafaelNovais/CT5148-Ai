{
  "nbformat": 4,
  "nbformat_minor": 0,
  "metadata": {
    "colab": {
      "provenance": [],
      "include_colab_link": true
    },
    "kernelspec": {
      "name": "python3",
      "display_name": "Python 3"
    },
    "language_info": {
      "name": "python"
    }
  },
  "cells": [
    {
      "cell_type": "markdown",
      "metadata": {
        "id": "view-in-github",
        "colab_type": "text"
      },
      "source": [
        "<a href=\"https://colab.research.google.com/github/RafaelNovais/MasterAI/blob/master/Part_of_speech.ipynb\" target=\"_parent\"><img src=\"https://colab.research.google.com/assets/colab-badge.svg\" alt=\"Open In Colab\"/></a>"
      ]
    },
    {
      "cell_type": "markdown",
      "metadata": {
        "id": "0R2-PspSFAm2"
      },
      "source": [
        "# Part-of-speech tagging\n",
        "\n",
        "We are going to implement the hidden Markov model using the Brown corpus again. You can get all the tagged words using\n",
        "\n",
        "    brown.tagged_words()\n",
        "\n",
        "Using this can you infer all the probabilities you need for the HMM?\n",
        "\n",
        "_Use a simple smoothing strategy and return `1e-8` if the probability has no examples in the corpus_"
      ]
    },
    {
      "cell_type": "code",
      "metadata": {
        "colab": {
          "base_uri": "https://localhost:8080/"
        },
        "id": "mbSrfAhbOZDr",
        "outputId": "67834d51-3f94-43d4-985b-8fc9f9cfe746"
      },
      "source": [
        "import nltk\n",
        "nltk.download(\"brown\")\n",
        "from nltk.corpus import brown\n",
        "from nltk import bigrams, ConditionalFreqDist\n",
        "from math import log"
      ],
      "execution_count": null,
      "outputs": [
        {
          "output_type": "stream",
          "name": "stderr",
          "text": [
            "[nltk_data] Downloading package brown to /root/nltk_data...\n",
            "[nltk_data]   Unzipping corpora/brown.zip.\n"
          ]
        }
      ]
    },
    {
      "cell_type": "code",
      "metadata": {
        "id": "QCyZRdmIFcKE",
        "colab": {
          "base_uri": "https://localhost:8080/"
        },
        "outputId": "7978afd2-88ef-45a5-cbca-29da31a7fc1f"
      },
      "source": [
        "emissions = ConditionalFreqDist((w[1], w[0].lower()) for w in brown.tagged_words())\n",
        "transitions = ConditionalFreqDist((b[0][1],b[1][1]) for b in bigrams(brown.tagged_words()))\n",
        "\n",
        "def emit_prob(t, w):\n",
        "  return 0\n",
        "\n",
        "def trans_prob(t1, t2):\n",
        "  return 0\n",
        "\n",
        "#assert emit_prob(\"VB\", \"work\") == 0.005312676223547918\n",
        "#assert trans_prob(\"NN\", \"VB\") == 0.003961435036400603"
      ],
      "execution_count": null,
      "outputs": [
        {
          "output_type": "stream",
          "name": "stdout",
          "text": [
            "emit_prob( VB , work )\n",
            "trans_prob( NN , VB )\n"
          ]
        }
      ]
    },
    {
      "cell_type": "markdown",
      "metadata": {
        "id": "7BSuzRobIt3r"
      },
      "source": [
        "Using this implement the hidden Markov model that takes a sequence of words and a sequence of tags and returns the **log** probability associated with this.\n",
        "\n",
        "_We will make a simplifying hack and treat the start token as equivalent to the symbol `.` i.e., we treat every sentence as following on from another sentence after a full stop_"
      ]
    },
    {
      "cell_type": "code",
      "source": [
        "emit_prob(\"VBZ\",\"works\") * trans_prob(\"DT\", \"VBZ\") * emit_prob(\"DT\", \"this\") * trans_prob(\"DT\", \".\")"
      ],
      "metadata": {
        "colab": {
          "base_uri": "https://localhost:8080/"
        },
        "id": "_mj__Ig76nGo",
        "outputId": "46261962-5215-44b6-8cdd-3f291b2d1e9a"
      },
      "execution_count": null,
      "outputs": [
        {
          "output_type": "stream",
          "name": "stdout",
          "text": [
            "emit_prob( VBZ , works )\n",
            "trans_prob( DT , VBZ )\n",
            "emit_prob( DT , this )\n",
            "trans_prob( DT , . )\n"
          ]
        },
        {
          "output_type": "execute_result",
          "data": {
            "text/plain": [
              "1.491638748904099e-06"
            ]
          },
          "metadata": {},
          "execution_count": 9
        }
      ]
    },
    {
      "cell_type": "code",
      "metadata": {
        "id": "QOSV-q_3I3b8",
        "colab": {
          "base_uri": "https://localhost:8080/"
        },
        "outputId": "52a75f6e-3c70-4c34-911c-28a58948360d"
      },
      "source": [
        "def hmm(words,tags):\n",
        "  p = 1.0\n",
        "  return p\n",
        "\n",
        "assert hmm([\"this\",\"works\"],[\"DT\",\"VBZ\"]) == -13.400840641537089"
      ],
      "execution_count": null,
      "outputs": [
        {
          "output_type": "stream",
          "name": "stdout",
          "text": [
            "trans_prob( . , DT )\n",
            "emit_prob( DT , this )\n",
            "trans_prob( DT , VBZ )\n",
            "emit_prob( VBZ , works )\n"
          ]
        },
        {
          "output_type": "execute_result",
          "data": {
            "text/plain": [
              "1.5138709542775762e-06"
            ]
          },
          "metadata": {},
          "execution_count": 10
        }
      ]
    },
    {
      "cell_type": "markdown",
      "metadata": {
        "id": "cd1lbFJbKl3p"
      },
      "source": [
        "Let's extend this further to a function that predicts for the next word's part-of-speech tag based on a partial tagging."
      ]
    },
    {
      "cell_type": "code",
      "metadata": {
        "id": "9vReLvkLK0Nc"
      },
      "source": [
        "all_tags = transitions.keys()\n",
        "\n",
        "def hmm_predict(words, tags, word):\n",
        "  return \"\"\n",
        "\n",
        "assert hmm_predict([\"this\", \"works\"],[\"DT\",\"VBZ\"],\"well\") == \"RB\""
      ],
      "execution_count": null,
      "outputs": []
    }
  ]
}