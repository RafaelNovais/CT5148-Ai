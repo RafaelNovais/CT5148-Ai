{
  "nbformat": 4,
  "nbformat_minor": 0,
  "metadata": {
    "colab": {
      "provenance": [],
      "authorship_tag": "ABX9TyOpvtHT/aTIgvG6zQBOSz7I",
      "include_colab_link": true
    },
    "kernelspec": {
      "name": "python3",
      "display_name": "Python 3"
    },
    "language_info": {
      "name": "python"
    }
  },
  "cells": [
    {
      "cell_type": "markdown",
      "metadata": {
        "id": "view-in-github",
        "colab_type": "text"
      },
      "source": [
        "<a href=\"https://colab.research.google.com/github/RafaelNovais/MasterAI/blob/master/KnowRepMindMap.ipynb\" target=\"_parent\"><img src=\"https://colab.research.google.com/assets/colab-badge.svg\" alt=\"Open In Colab\"/></a>"
      ]
    },
    {
      "cell_type": "code",
      "execution_count": null,
      "metadata": {
        "id": "QyLRW-4NC31y"
      },
      "outputs": [],
      "source": []
    },
    {
      "cell_type": "markdown",
      "source": [
        "Engenharia de Conhecimento\n",
        "\n",
        "1. definir a tarefa\n",
        "2. agregar conhecimento relevante\n",
        "3. Definir Vocabulario de predicados e funcoes e constantes\n",
        "4. Codificar conhecimento geral sobre o dominio\n",
        "\n",
        "\n",
        "\n",
        "First-order logic\n",
        "\n",
        "Logical symbols:\n",
        "* Punctuation: (, ), .\n",
        "* Connectives: ¬, ∧, ∨, ∀, ∃, =\n",
        "* Variables: x, x1, x2, ..., x', x\", ..., y, ..., z, ...\n",
        "\n",
        "Non-logical symbols\n",
        "* Predicate symbols (like Dog) **Note: not treating = as a predicate**\n",
        "* Function symbols (like bestFriendOf)\n",
        "\n",
        "\n",
        "Terms\n",
        "* Every variable is a term.\n",
        "* If t1, t2, ..., tn are terms and f is a function of arity n,then f(t1, t2, ..., tn) is a term.\n",
        "\n",
        "Atomic wffs (well-formed formula)\n",
        "* If t1, t2, ..., tn are terms and P is a predicate of arity n,\n",
        "then P(t1, t2, ..., tn) is an atomic wff.\n",
        "* If t1 and t2 are terms, then (t1=t2) is an atomic wff.\n",
        "\n",
        "Wffs\n",
        "* Every atomic wff is a wff.\n",
        "* If α and β are wffs, and v is a variable, then ¬α, (α∧β), (α∨β), ∃v.α, ∀v.\n",
        "α are wffs.\n",
        "\n",
        "The propositional subset: no terms, no quantifiers\n",
        "Atomic wffs: only predicates of 0-arity: (p ∧ ¬(q ∨r))\n",
        "\n",
        "\n",
        "\n",
        "#Knowledge Engineering\n",
        "\n",
        "* Before implementing, need to understand clearly\n",
        "* Vocabulary - Domain-dependent predicates and functions\n",
        "  * named individuals\n",
        "  * basic types\n",
        "  * attributes\n",
        "  * relationships\n",
        "  * functions\n",
        "\n",
        "* Basic facts - Usually atomic sentences and negations - Like a simple database (can store in a table)\n",
        "  * type facts\n",
        "  * property facts\n",
        "  * equality facts\n",
        "\n",
        "* Complex facts -\n",
        "  * Universal abbreviations - possible to express without quantifiers\n",
        "  * Incomplete knowledge - cannot write down a more complete version\n",
        "  * Closure axioms - limit the domain of discourse\n",
        "\n",
        "* Terminological facts - General relationships among predicates - Usually universally quantified conditionals or biconditionals\n",
        "  * disjoint\n",
        "  * subtype\n",
        "  * exhaustive\n",
        "  * symmetry\n",
        "  * inverse\n",
        "  * type restriction\n",
        "\n",
        "* Abstract individuals - Also need individuals for numbers, dates, times, addresses, etc.\n",
        "  * Quantities as individuals\n",
        "  * Similarly with locations and times\n",
        "  * Statistical / probabilistic facts\n",
        "  * Default / prototypical facts\n",
        "  * Intentional facts\n",
        "\n",
        "\n",
        "\n",
        "\n",
        "\n",
        "\n",
        "\n",
        "\n",
        "\n",
        "\n",
        "\n",
        "\n",
        "\n",
        "\n",
        "\n",
        "\n",
        "\n",
        "\n",
        "\n",
        "\n",
        "\n",
        "\n",
        "\n",
        "\n"
      ],
      "metadata": {
        "id": "Lnkm_MMcNZq1"
      }
    }
  ]
}