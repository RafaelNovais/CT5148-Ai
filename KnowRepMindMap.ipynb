{
  "nbformat": 4,
  "nbformat_minor": 0,
  "metadata": {
    "colab": {
      "provenance": [],
      "authorship_tag": "ABX9TyOwRDY846JZzQMaYTZLAyKe",
      "include_colab_link": true
    },
    "kernelspec": {
      "name": "python3",
      "display_name": "Python 3"
    },
    "language_info": {
      "name": "python"
    }
  },
  "cells": [
    {
      "cell_type": "markdown",
      "metadata": {
        "id": "view-in-github",
        "colab_type": "text"
      },
      "source": [
        "<a href=\"https://colab.research.google.com/github/RafaelNovais/MasterAI/blob/master/KnowRepMindMap.ipynb\" target=\"_parent\"><img src=\"https://colab.research.google.com/assets/colab-badge.svg\" alt=\"Open In Colab\"/></a>"
      ]
    },
    {
      "cell_type": "code",
      "execution_count": null,
      "metadata": {
        "id": "QyLRW-4NC31y"
      },
      "outputs": [],
      "source": []
    },
    {
      "cell_type": "markdown",
      "source": [
        "Engenharia de Conhecimento\n",
        "\n",
        "1 - definir a tarefa\n",
        "2 - agregar conhecimento relevante\n",
        "3 - Definir Vocabulario de predicados e funcoes e constantes\n",
        "4 - Codificar conhecimento geral sobre o dominio"
      ],
      "metadata": {
        "id": "Lnkm_MMcNZq1"
      }
    }
  ]
}