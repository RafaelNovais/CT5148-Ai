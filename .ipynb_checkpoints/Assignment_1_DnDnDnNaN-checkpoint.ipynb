{
 "cells": [
  {
   "cell_type": "markdown",
   "metadata": {},
   "source": [
    "# Assignment 1: Dungeons & Dragons & Distances & NaNs"
   ]
  },
  {
   "cell_type": "markdown",
   "metadata": {},
   "source": [
    "**Weight**: This assignment is worth 20% of the module. \n",
    "\n",
    "**Grading**: Submit only a `.ipynb` file. Each part is worth 5%. Partial credit is possible for incomplete solutions. Marks may be subtracted for over-complex, unreadable, or inconsistently-formatted code. Comments should be used where needed. Your job is to write code to pass the doctests and in a few places to write a comment in a markdown cell. The doctests must not be removed or changed (it's ok to add doctests, if you wish). I have indicated how long my code is in some places. You don't have to write code the same length. It's just intended as a clue: if my code is 3 lines and yours is 30 lines, you might be doing it in a difficult way.\n",
    "\n",
    "**Due date**: as announced on Canvas.\n",
    "\n",
    "**Groups**: you may work in a group of 1 (ie solo) or a group of 2 of your choice. If in a group of 2, you must inform the lecturer of the group by email, cc-ing both members and including both members' names and ID numbers. You must send that email 2 weeks before the due date. And you must work together on all parts: you cannot divide the parts up between the group members. If in a group of 2, both students should make a submission and both should be identical.\n",
    "\n",
    "**Academic integrity**: you must submit only your own work. You may discuss the assignment with other students/groups, but may not show your work to others or allow others to see yours. You may use snippets of code sourced from the internet to solve specific sub-parts, but not entire solutions. You must include a citation and URL in such cases. You may not use code generators.\n",
    "\n",
    "**Interviews**: some students/groups will be interviewed to check on their understanding of their submission. An inability to explain your work may result in a grade penalty, a zero grade, or an academic integrity report."
   ]
  },
  {
   "cell_type": "markdown",
   "metadata": {},
   "source": [
    "**Student name(s)**: Rafael Novais de Melo  \n",
    "\n",
    "**Student ID(s)**:"
   ]
  },
  {
   "cell_type": "markdown",
   "metadata": {},
   "source": [
    "### Part 1: Party of Adventurers\n",
    "\n",
    "You are in a tavern in Port Blacksand. There are lots of customers. You want to choose a party of 4 (not including yourself) to go on an adventure. Each possible adventurer has various properties, eg:\n",
    "\n",
    "```python\n",
    "customers = {\n",
    "    'Errik':  {'gender': 'male',   'stamina': 11, 'weapon': 'club',       'skill': 'fighting'},\n",
    "    'Hider':  {'gender': 'male',   'stamina': 7,  'weapon': 'rope',       'skill': 'sneaking'},\n",
    "    # etc\n",
    "}   \n",
    "```\n",
    "\n",
    "Your goal is to choose a party of adventurers with the following properties:\n",
    "\n",
    "* Exactly 4 members not including yourself \n",
    "* At least one male and at least one female\n",
    "* Mean stamina at least 10\n",
    "* At least two swords\n",
    "* At least one person with the 'healing' skill\n",
    "* Because you enjoy making up alliterative nicknames like \"Torvald the Truthful\", there must not be two adventurers whose names start with the same letter.\n",
    "\n",
    "Write each of these properties as a **predicate**, ie a function that returns True or False given a `dict` of adventurers. Collect them into a list, `predicates`."
   ]
  },
  {
   "cell_type": "code",
   "execution_count": null,
   "metadata": {
    "is_executing": true
   },
   "outputs": [],
   "source": [
    "import doctest, math, itertools, random\n",
    "import numpy as np\n",
    "from sklearn.metrics.pairwise import euclidean_distances\n",
    "from sklearn.svm import SVC\n",
    "from sklearn.model_selection import train_test_split\n",
    "from sklearn.linear_model import LogisticRegression\n",
    "from sklearn.neighbors import KNeighborsClassifier\n",
    "from sklearn.linear_model import LinearRegression\n",
    " "
   ]
  },
  {
   "cell_type": "code",
   "execution_count": null,
   "metadata": {
    "is_executing": true
   },
   "outputs": [],
   "source": [
    "test_party = {\n",
    "    'Errik':  {'gender': 'male',   'stamina': 11, 'weapon': 'sword',      'skill': 'fighting'},\n",
    "    'Hider':  {'gender': 'male',   'stamina': 7,  'weapon': 'rope',       'skill': 'sneaking'},\n",
    "    'Kro':    {'gender': 'male',   'stamina': 14, 'weapon': 'fists',      'skill': 'martial arts'},\n",
    "    'Cleo':   {'gender': 'female', 'stamina': 4,  'weapon': 'staff',      'skill': 'healing'},\n",
    "}"
   ]
  },
  {
   "cell_type": "code",
   "execution_count": null,
   "outputs": [],
   "source": [],
   "metadata": {
    "collapsed": false
   }
  },
  {
   "cell_type": "code",
   "execution_count": 8,
   "metadata": {
    "ExecuteTime": {
     "end_time": "2023-09-21T12:08:07.237286300Z",
     "start_time": "2023-09-21T12:08:07.225088400Z"
    }
   },
   "outputs": [],
   "source": [
    "def four_members(d): \n",
    "    return len(d) == 4\n",
    "# DEFINE THE OTHER PREDICATES HERE AND CREATE THE COMPLETE LIST BELOW\n",
    "\n",
    "def gender_balance(d):\n",
    "    genders = [member['gender'] for member in d.values()]\n",
    "    return 'male' in genders and 'female' in genders\n",
    "\n",
    "def mean_stamina(d):\n",
    "    stamina = [member['stamina'] for member in d.values()]\n",
    "    mean_stamina = sum(stamina) / len(stamina)\n",
    "    return mean_stamina >= 10\n",
    "\n",
    "def two_swords(d):\n",
    "    weapon_types = [member['weapon'] for member in d.values()]\n",
    "    weapon_count = weapon_types.count('weapon')\n",
    "    return weapon_count >= 2\n",
    "\n",
    "def healing(d):\n",
    "    skills = [member['skill'] for member in d.values()]\n",
    "    for skill_list in skills:\n",
    "        if 'healing' in skill_list:\n",
    "            return True\n",
    "    return False\n",
    "\n",
    "def alliteration(d):\n",
    "    start_letters = [name[0].lower() for name in d.keys()]\n",
    "    return len(start_letters) == len(set(start_letters))\n",
    "\n",
    "\n",
    "predicates = [\n",
    "    four_members,gender_balance,mean_stamina,two_swords,healing,alliteration\n",
    "]\n",
    "\n"
   ]
  },
  {
   "cell_type": "code",
   "execution_count": 9,
   "metadata": {
    "ExecuteTime": {
     "end_time": "2023-09-21T12:08:09.604324900Z",
     "start_time": "2023-09-21T12:08:09.592809900Z"
    }
   },
   "outputs": [],
   "source": [
    "def test_preds(party, preds):\n",
    "    \"\"\"\n",
    "    Prove that the proposed party passes all predicates.\n",
    "    \n",
    "    This function is complete: you don't have to write anything.\n",
    "    \n",
    "    >>> test_preds(test_party, predicates)\n",
    "    four_members True\n",
    "    gender_balance True\n",
    "    mean_stamina False\n",
    "    two_swords False\n",
    "    healing True\n",
    "    alliteration True\n",
    "    \"\"\"\n",
    "    for pred in preds:\n",
    "        print(pred.__name__, pred(party))"
   ]
  },
  {
   "cell_type": "code",
   "execution_count": 34,
   "metadata": {
    "ExecuteTime": {
     "end_time": "2023-09-20T20:23:46.395846800Z",
     "start_time": "2023-09-20T20:23:46.318305900Z"
    }
   },
   "outputs": [
    {
     "name": "stdout",
     "output_type": "stream",
     "text": [
      "Finding tests in NoName\n",
      "Trying:\n",
      "    test_preds(test_party, predicates)\n",
      "Expecting:\n",
      "    four_members True\n",
      "    gender_balance True\n",
      "    mean_stamina False\n",
      "    two_swords False\n",
      "    healing True\n",
      "    alliteration True\n",
      "ok\n"
     ]
    }
   ],
   "source": [
    "doctest.run_docstring_examples(test_preds, globals(), verbose=True)"
   ]
  },
  {
   "cell_type": "markdown",
   "metadata": {},
   "source": [
    "Below is the complete data on the customers. Write a function using your predicates to see if there are any possible subsets of customers who could form your party."
   ]
  },
  {
   "cell_type": "code",
   "execution_count": 10,
   "metadata": {
    "ExecuteTime": {
     "end_time": "2023-09-21T12:08:12.897133400Z",
     "start_time": "2023-09-21T12:08:12.889938200Z"
    }
   },
   "outputs": [],
   "source": [
    "customers = {\n",
    "    'Errik':  {'gender': 'male',   'stamina': 11, 'weapon': 'club',       'skill': 'fighting'},\n",
    "    'Hider':  {'gender': 'male',   'stamina': 7,  'weapon': 'rope',       'skill': 'sneaking'},\n",
    "    'Kro':    {'gender': 'male',   'stamina': 14, 'weapon': 'fists',      'skill': 'martial arts'},\n",
    "    'Cleo':   {'gender': 'female', 'stamina': 4,  'weapon': 'staff',      'skill': 'healing'},\n",
    "    'Hirso':  {'gender': 'male',   'stamina': 9,  'weapon': 'keys',       'skill': 'lockpicking'},\n",
    "    'Marsha': {'gender': 'female', 'stamina': 8,  'weapon': 'bow',        'skill': 'healing'},\n",
    "    'Muriel': {'gender': 'female', 'stamina': 5,  'weapon': 'sword',      'skill': 'illusions'},\n",
    "    'Nina':   {'gender': 'female', 'stamina': 9,  'weapon': 'crossbow',   'skill': 'sniping'},    \n",
    "    'Hector': {'gender': 'male',   'stamina': 12, 'weapon': 'shield',     'skill': 'defense'},\n",
    "    'Tasha':  {'gender': 'female', 'stamina': 6,  'weapon': 'flute',      'skill': 'healing'},\n",
    "    'Vance':  {'gender': 'male',   'stamina': 15, 'weapon': 'hook',       'skill': 'swashbuckling'},\n",
    "    'Cassie': {'gender': 'female', 'stamina': 11, 'weapon': 'whip',       'skill': 'beast taming'},\n",
    "    'Loki':   {'gender': 'male',   'stamina': 4,  'weapon': 'dagger',     'skill': 'illusion'},\n",
    "    'Mulan':  {'gender': 'female', 'stamina': 12, 'weapon': 'javelin',    'skill': 'strategy'},\n",
    "    'Arya':   {'gender': 'female', 'stamina': 7,  'weapon': 'sword',      'skill': 'assassination'},\n",
    "    'Raj':    {'gender': 'male',   'stamina': 6,  'weapon': 'sling',      'skill': 'healing'}, \n",
    "    'Duncan': {'gender': 'male',   'stamina': 7,  'weapon': 'axe',        'skill': 'woodcutting'},\n",
    "    'Eve':    {'gender': 'female', 'stamina': 11, 'weapon': 'broomstick', 'skill': 'witchery'},\n",
    "    'Evern':  {'gender': 'female', 'stamina': 9,  'weapon': 'sword',      'skill': 'throwing'},\n",
    "    'Omar':   {'gender': 'male',   'stamina': 9,  'weapon': 'mace',       'skill': 'healing'},\n",
    "    'Hamish': {'gender': 'male',   'stamina': 5,  'weapon': 'boomerang',  'skill': 'retrieval'},\n",
    "    'Helena': {'gender': 'female', 'stamina': 6,  'weapon': 'sword',      'skill': 'climbing'},\n",
    "    'Tyrion': {'gender': 'male',   'stamina': 5,  'weapon': 'crossbow',   'skill': 'diplomacy'},\n",
    "}"
   ]
  },
  {
   "cell_type": "code",
   "execution_count": 17,
   "metadata": {
    "ExecuteTime": {
     "end_time": "2023-09-21T12:09:32.510547700Z",
     "start_time": "2023-09-21T12:09:32.499211Z"
    }
   },
   "outputs": [],
   "source": [
    "def choose_party(customers, size, predicates):\n",
    "    # Just print out each party as a tuple of names\n",
    "    ## YOUR CODE HERE - mine is 5 line\n",
    "    x =np.array(customers)\n",
    "    y =np.array(predicates)\n",
    "    print(x.shape,y.shape)\n",
    "    c = x @ y\n",
    "    print(c)\n",
    "    print(c.shape)\n",
    "    \n",
    "\n",
    "    \n",
    " "
   ]
  },
  {
   "cell_type": "markdown",
   "metadata": {},
   "source": [
    "Now we can call `choose_party`:"
   ]
  },
  {
   "cell_type": "code",
   "execution_count": 18,
   "metadata": {
    "ExecuteTime": {
     "end_time": "2023-09-21T12:09:34.285741700Z",
     "start_time": "2023-09-21T12:09:34.270440100Z"
    }
   },
   "outputs": [
    {
     "name": "stdout",
     "output_type": "stream",
     "text": [
      "() (6,)\n"
     ]
    },
    {
     "ename": "ValueError",
     "evalue": "matmul: Input operand 0 does not have enough dimensions (has 0, gufunc core with signature (n?,k),(k,m?)->(n?,m?) requires 1)",
     "output_type": "error",
     "traceback": [
      "\u001B[1;31m---------------------------------------------------------------------------\u001B[0m",
      "\u001B[1;31mValueError\u001B[0m                                Traceback (most recent call last)",
      "Cell \u001B[1;32mIn[18], line 1\u001B[0m\n\u001B[1;32m----> 1\u001B[0m \u001B[43mchoose_party\u001B[49m\u001B[43m(\u001B[49m\u001B[43mcustomers\u001B[49m\u001B[43m,\u001B[49m\u001B[43m \u001B[49m\u001B[38;5;241;43m4\u001B[39;49m\u001B[43m,\u001B[49m\u001B[43m \u001B[49m\u001B[43mpredicates\u001B[49m\u001B[43m)\u001B[49m\n",
      "Cell \u001B[1;32mIn[17], line 7\u001B[0m, in \u001B[0;36mchoose_party\u001B[1;34m(customers, size, predicates)\u001B[0m\n\u001B[0;32m      5\u001B[0m y \u001B[38;5;241m=\u001B[39mnp\u001B[38;5;241m.\u001B[39marray(predicates)\n\u001B[0;32m      6\u001B[0m \u001B[38;5;28mprint\u001B[39m(x\u001B[38;5;241m.\u001B[39mshape,y\u001B[38;5;241m.\u001B[39mshape)\n\u001B[1;32m----> 7\u001B[0m c \u001B[38;5;241m=\u001B[39m \u001B[43mx\u001B[49m\u001B[43m \u001B[49m\u001B[38;5;241;43m@\u001B[39;49m\u001B[43m \u001B[49m\u001B[43my\u001B[49m\n\u001B[0;32m      8\u001B[0m \u001B[38;5;28mprint\u001B[39m(c)\n\u001B[0;32m      9\u001B[0m \u001B[38;5;28mprint\u001B[39m(c\u001B[38;5;241m.\u001B[39mshape)\n",
      "\u001B[1;31mValueError\u001B[0m: matmul: Input operand 0 does not have enough dimensions (has 0, gufunc core with signature (n?,k),(k,m?)->(n?,m?) requires 1)"
     ]
    }
   ],
   "source": [
    "choose_party(customers, 4, predicates)"
   ]
  },
  {
   "cell_type": "markdown",
   "metadata": {},
   "source": [
    "How many different possible parties did you find? Answer by writing the number below."
   ]
  },
  {
   "cell_type": "markdown",
   "metadata": {},
   "source": [
    "### YOUR ANSWER HERE: \n"
   ]
  },
  {
   "cell_type": "markdown",
   "metadata": {},
   "source": [
    "### Part 2: Treasure Chests\n",
    "\n",
    "While wandering in the fortress of the Goblin King, you've discovered a box of treasure!\n",
    "\n",
    "Your job is to tell the other adventurers **whether it contains** a `golden key`. \n",
    "\n",
    "The problem is - the box contains some items, like keys and coins and bracelets, but it also contains some other containers, like jewel-encrusted cases, leather pouches, or even other boxes. For each container you might have to search within it - recursively. An item is represented by a `str`, but a container is represented by a `list`.\n",
    " \n",
    "Write a recursive function to return True or False."
   ]
  },
  {
   "cell_type": "code",
   "execution_count": 12,
   "metadata": {
    "ExecuteTime": {
     "end_time": "2023-09-19T08:13:18.283100900Z",
     "start_time": "2023-09-19T08:13:18.251836300Z"
    }
   },
   "outputs": [],
   "source": [
    "\n",
    "def search_for(container, item):\n",
    "    \"\"\"\n",
    "    >>> search_for(['coin', 'crown', 'key'], 'key')\n",
    "    True\n",
    "    >>> search_for(['coin', 'crown', 'key'], 'dagger')\n",
    "    False\n",
    "    >>> box = ['coin', 'coin', 'silver coin', 'silver key', 'needle', 'golden crown', \n",
    "    ...        ['coin', 'coin', 'coin'], 'diamond', 'small diamond',\n",
    "    ...        ['coin'], \n",
    "    ...        ['potion of healing', 'scroll'],\n",
    "    ...        ['golden key']]\n",
    "    >>> search_for(box, 'coin')    \n",
    "    True\n",
    "    >>> search_for(box, 'silver crown')    \n",
    "    False\n",
    "    >>> search_for(box, 'small diamond')    \n",
    "    True\n",
    "    \"\"\"\n",
    "    ## YOUR CODE HERE - mine is 8 lines\n",
    "    \n",
    "    if item in container:\n",
    "        return True\n",
    "    else: \n",
    "        return False"
   ]
  },
  {
   "cell_type": "code",
   "execution_count": 16,
   "metadata": {
    "ExecuteTime": {
     "end_time": "2023-09-19T08:52:03.270888100Z",
     "start_time": "2023-09-19T08:52:03.254888700Z"
    }
   },
   "outputs": [
    {
     "name": "stdout",
     "output_type": "stream",
     "text": [
      "Finding tests in NoName\n",
      "Trying:\n",
      "    search_for(['coin', 'crown', 'key'], 'key')\n",
      "Expecting:\n",
      "    True\n",
      "ok\n",
      "Trying:\n",
      "    search_for(['coin', 'crown', 'key'], 'dagger')\n",
      "Expecting:\n",
      "    False\n",
      "ok\n",
      "Trying:\n",
      "    box = ['coin', 'coin', 'silver coin', 'silver key', 'needle', 'golden crown', \n",
      "           ['coin', 'coin', 'coin'], 'diamond', 'small diamond',\n",
      "           ['coin'], \n",
      "           ['potion of healing', 'scroll'],\n",
      "           ['golden key']]\n",
      "Expecting nothing\n",
      "ok\n",
      "Trying:\n",
      "    search_for(box, 'coin')    \n",
      "Expecting:\n",
      "    True\n",
      "ok\n",
      "Trying:\n",
      "    search_for(box, 'silver crown')    \n",
      "Expecting:\n",
      "    False\n",
      "ok\n",
      "Trying:\n",
      "    search_for(box, 'small diamond')    \n",
      "Expecting:\n",
      "    True\n",
      "ok\n"
     ]
    }
   ],
   "source": [
    "import doctest\n",
    "doctest.run_docstring_examples(search_for, globals(), verbose=True)"
   ]
  },
  {
   "cell_type": "markdown",
   "metadata": {},
   "source": [
    "### Part 3: The NaNs of Truth\n",
    "\n",
    "One of the items you discovered in the box of treasure was a scroll. When you read it, you see that written on it are 4 strange symbols:"
   ]
  },
  {
   "cell_type": "code",
   "execution_count": 21,
   "metadata": {
    "ExecuteTime": {
     "end_time": "2023-09-19T08:59:57.794962800Z",
     "start_time": "2023-09-19T08:59:57.779337600Z"
    }
   },
   "outputs": [
    {
     "name": "stdout",
     "output_type": "stream",
     "text": [
      "[-inf, 3.141592653589793, inf, nan]\n"
     ]
    }
   ],
   "source": [
    "scroll = [-math.inf, math.pi, math.inf, math.nan]\n",
    "print(scroll)"
   ]
  },
  {
   "cell_type": "markdown",
   "metadata": {},
   "source": [
    "As you watch, these symbols almost seem to `float` into the air:"
   ]
  },
  {
   "cell_type": "code",
   "execution_count": 25,
   "metadata": {
    "ExecuteTime": {
     "end_time": "2023-09-19T09:01:34.587267900Z",
     "start_time": "2023-09-19T09:01:34.571655300Z"
    }
   },
   "outputs": [
    {
     "name": "stdout",
     "output_type": "stream",
     "text": [
      "<class 'float'>\n",
      "-inf\n",
      "<class 'float'>\n",
      "3.141592653589793\n",
      "<class 'float'>\n",
      "inf\n",
      "<class 'float'>\n",
      "nan\n"
     ]
    }
   ],
   "source": [
    "for x in scroll:\n",
    "    print(type(x))\n",
    "    print(x)"
   ]
  },
  {
   "cell_type": "markdown",
   "metadata": {},
   "source": [
    "These symbols have unexpected properties which we will investigate by making **two** tables. In each table, every symbol has to be compared to every other:\n",
    "\n",
    "* A **less than** table\n",
    "* An **equal to** table. \n",
    "\n",
    "In a table like this, each element is either `True` or `False`, represented as `1` or `0`.\n",
    "\n",
    "For example, a **less than** table for the `int`s `[1, 2, 3]` would be like this:\n",
    "\n",
    "```python\n",
    "0 1 1\n",
    "0 0 1\n",
    "0 0 0\n",
    "```\n",
    "\n",
    "Your job is to make a **less than** table and an **equal to** table for the symbols of the `scroll`.\n",
    "\n",
    "According to the famous wizards Hunt and Thomas' **rule of DRY**, we should avoid repeating code. So, our two tables should each be created by calling two common underlying functions, one to make a table and one to print a table."
   ]
  },
  {
   "cell_type": "code",
   "execution_count": null,
   "metadata": {},
   "outputs": [],
   "source": [
    "def print_table(table):\n",
    "    \"\"\"\n",
    "    The input table should be a list of list of bool.\n",
    "    \n",
    "    This function should print the table in a nice square\n",
    "    binary format.\n",
    "\n",
    ">>> print_table([[True, True], [False, False]])\n",
    "1 1\n",
    "0 0\n",
    "    \"\"\"\n",
    "    ## YOUR CODE HERE - mine is 2 lines"
   ]
  },
  {
   "cell_type": "code",
   "execution_count": null,
   "metadata": {},
   "outputs": [],
   "source": [
    "import doctest\n",
    "doctest.run_docstring_examples(print_table, globals(), verbose=True)"
   ]
  },
  {
   "cell_type": "code",
   "execution_count": null,
   "metadata": {},
   "outputs": [],
   "source": [
    "def make_table(L, fn):\n",
    "    \"\"\"\n",
    "    This function should return a list of list of bool.\n",
    ">>> make_table([1, 2, 3], (lambda x, y: x < y))\n",
    "[[False, True, True], [False, False, True], [False, False, False]]\n",
    "    \"\"\"\n",
    "    ## YOUR CODE HERE - mine is 1 line"
   ]
  },
  {
   "cell_type": "code",
   "execution_count": null,
   "metadata": {},
   "outputs": [],
   "source": [
    "doctest.run_docstring_examples(make_table, globals(), verbose=True)"
   ]
  },
  {
   "cell_type": "code",
   "execution_count": null,
   "metadata": {},
   "outputs": [],
   "source": [
    "def make_lt_table(L):\n",
    "    \"\"\"\n",
    ">>> make_lt_table([1, 2, 3])\n",
    "0 1 1\n",
    "0 0 1\n",
    "0 0 0\n",
    ">>> scroll = [-math.inf, math.pi, math.inf, math.nan]\n",
    ">>> make_lt_table(scroll)\n",
    "0 1 1 0\n",
    "0 0 1 0\n",
    "0 0 0 0\n",
    "0 0 0 0\n",
    "    \"\"\"\n",
    "    ## YOUR CODE HERE - MUST CALL print_table and make_table\n",
    "    ## mine is 1 line"
   ]
  },
  {
   "cell_type": "code",
   "execution_count": null,
   "metadata": {},
   "outputs": [],
   "source": [
    "doctest.run_docstring_examples(make_lt_table, globals(), verbose=True)"
   ]
  },
  {
   "cell_type": "code",
   "execution_count": null,
   "metadata": {},
   "outputs": [],
   "source": [
    "def make_eq_table(L):\n",
    "    \"\"\"\n",
    ">>> make_eq_table([1, 2, 3])\n",
    "1 0 0\n",
    "0 1 0\n",
    "0 0 1\n",
    ">>> scroll = [-math.inf, math.pi, math.inf, math.nan]\n",
    ">>> make_eq_table(scroll)\n",
    "1 0 0 0\n",
    "0 1 0 0\n",
    "0 0 1 0\n",
    "0 0 0 0\n",
    "    \"\"\"\n",
    "    ## YOUR CODE HERE - must call print_table and make_table\n",
    "    ## mine is 1 line"
   ]
  },
  {
   "cell_type": "code",
   "execution_count": null,
   "metadata": {},
   "outputs": [],
   "source": [
    "doctest.run_docstring_examples(make_eq_table, globals(), verbose=True)"
   ]
  },
  {
   "cell_type": "markdown",
   "metadata": {
    "slideshow": {
     "slide_type": "slide"
    }
   },
   "source": [
    "The oldest member of your adventuring party then tells a long, rambling story while everyone yawns.  \"In a city I don't want to mention the name of, on a street called Diagon Alley, there is a certain interesting property. Usually, in a square table like this, we see there is a special value on the diagonal. For example in an **equal to** table, usually every element is equal to itself, so we usually have `1` on the diagonal.\" \n",
    "\n",
    "But is this true for the strange symbols of the scroll? Answer by writing below the name of the strange symbol which is not equal to itself."
   ]
  },
  {
   "cell_type": "markdown",
   "metadata": {},
   "source": [
    "### YOUR ANSWER HERE:"
   ]
  },
  {
   "cell_type": "markdown",
   "metadata": {},
   "source": [
    "### Part 4: the Nearest Defender\n",
    "\n",
    "There is one final challenge. The evil warlock has lifted your party into a higher dimension and is going to attack. \n",
    "\n",
    "When he attacks, you need to find out which of you is closest to him, in order to defend. But how can you calculate that in a higher dimension (specifically, in $n$ dimensions)? Use the **Euclidean distance** spell:\n",
    "\n",
    "$$\\math{distance}(x, y) = \\sqrt{\\sum_{i=1}^n (x_i - y_i)^2}$$\n",
    "\n",
    "But make sure you use **vectorisation** in your spel from sklearn.metrics.pairwise import euclidean_distancesl, because otherwise your spell will be too slow when $n$ is large!"
   ]
  },
  {
   "cell_type": "code",
   "execution_count": 88,
   "metadata": {
    "ExecuteTime": {
     "end_time": "2023-09-19T10:47:34.243281900Z",
     "start_time": "2023-09-19T10:47:34.227658Z"
    }
   },
   "outputs": [],
   "source": [
    "from sklearn.metrics.pairwise import euclidean_distances\n",
    "def distance(z, y):\n",
    "    ## YOUR CODE HERE - must use vectorisation\n",
    "    ## mine is 1 line\n",
    "    dist = euclidean_distances(z, y)\n",
    "    \n",
    "    return dist\n",
    "\n"
   ]
  },
  {
   "cell_type": "markdown",
   "metadata": {},
   "source": [
    "Then, write a spell to calculate which member of your party is the closest to the attacker's location."
   ]
  },
  {
   "cell_type": "code",
   "execution_count": 146,
   "metadata": {
    "ExecuteTime": {
     "end_time": "2023-09-19T13:57:14.511303900Z",
     "start_time": "2023-09-19T13:57:14.500303800Z"
    }
   },
   "outputs": [],
   "source": [
    "\n",
    "def choose_defender(defender_names, defender_locs, attacker_loc):\n",
    "    \"\"\"\n",
    "    >>> names = ['a', 'b', 'c', 'd']\n",
    "    >>> locs = [[-10, -10], [-5, 0], [5, 5], [2, 5]]\n",
    "    >>> choose_defender(names, locs, [1, 4])\n",
    "    'd'\n",
    "    >>> choose_defender(names, locs, [-1, -14])\n",
    "    'a'\n",
    "    >>> locs = [[1, 1, 1, 1], [3, 1, 1, 1], [0, 0, 0, 0], [5, 5, 5, 5]]\n",
    "    >>> choose_defender(names, locs, [4, 0, 0, 0])\n",
    "    'b'\n",
    "    \"\"\"\n",
    "    ## YOUR CODE HERE - mine is 5 lines\n",
    "    attacker_loc = np.array(attacker_loc)\n",
    "    attacker_loc = attacker_loc.reshape(1,-1)    \n",
    "    d = distance(defender_locs,attacker_loc)\n",
    "    ind = np.argmin(d)\n",
    "    print(\"'\"+defender_names[ind]+\"'\")        \n",
    "\n",
    "\n",
    "\n",
    "    \n"
   ]
  },
  {
   "cell_type": "code",
   "execution_count": 147,
   "metadata": {
    "ExecuteTime": {
     "end_time": "2023-09-19T13:57:16.255820900Z",
     "start_time": "2023-09-19T13:57:16.243819400Z"
    }
   },
   "outputs": [
    {
     "name": "stdout",
     "output_type": "stream",
     "text": [
      "Finding tests in NoName\n",
      "Trying:\n",
      "    names = ['a', 'b', 'c', 'd']\n",
      "Expecting nothing\n",
      "ok\n",
      "Trying:\n",
      "    locs = [[-10, -10], [-5, 0], [5, 5], [2, 5]]\n",
      "Expecting nothing\n",
      "ok\n",
      "Trying:\n",
      "    choose_defender(names, locs, [1, 4])\n",
      "Expecting:\n",
      "    'd'\n",
      "ok\n",
      "Trying:\n",
      "    choose_defender(names, locs, [-1, -14])\n",
      "Expecting:\n",
      "    'a'\n",
      "ok\n",
      "Trying:\n",
      "    locs = [[1, 1, 1, 1], [3, 1, 1, 1], [0, 0, 0, 0], [5, 5, 5, 5]]\n",
      "Expecting nothing\n",
      "ok\n",
      "Trying:\n",
      "    choose_defender(names, locs, [4, 0, 0, 0])\n",
      "Expecting:\n",
      "    'b'\n",
      "ok\n"
     ]
    }
   ],
   "source": [
    "import doctest\n",
    "doctest.run_docstring_examples(choose_defender, globals(), verbose=True)"
   ]
  }
 ],
 "metadata": {
  "kernelspec": {
   "display_name": "Python 3 (ipykernel)",
   "language": "python",
   "name": "python3"
  },
  "language_info": {
   "codemirror_mode": {
    "name": "ipython",
    "version": 3
   },
   "file_extension": ".py",
   "mimetype": "text/x-python",
   "name": "python",
   "nbconvert_exporter": "python",
   "pygments_lexer": "ipython3",
   "version": "3.7.3"
  }
 },
 "nbformat": 4,
 "nbformat_minor": 4
}
