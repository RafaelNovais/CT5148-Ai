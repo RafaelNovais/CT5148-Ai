{
 "cells": [
  {
   "cell_type": "markdown",
   "id": "31b21999",
   "metadata": {},
   "source": [
    "<center><img src=img/MScAI_brand.png width=70%></center>\n",
    "\n",
    "# Scikit-Learn and OOP: Exercises and Solutions"
   ]
  },
  {
   "cell_type": "code",
   "execution_count": 1,
   "id": "2cfce3bb",
   "metadata": {},
   "outputs": [],
   "source": [
    "import doctest"
   ]
  },
  {
   "cell_type": "code",
   "execution_count": 2,
   "id": "d8b13999",
   "metadata": {},
   "outputs": [],
   "source": [
    "class C:\n",
    "    def __init__(self, data=17):\n",
    "        self.data = data\n",
    "    def __repr__(self):\n",
    "        return f\"C({self.data})\"\n",
    "    def __lt__(self, other):\n",
    "        return self.data < other.data"
   ]
  },
  {
   "cell_type": "markdown",
   "id": "8b06b471",
   "metadata": {},
   "source": [
    "### Exercise\n",
    "\n",
    "Run this code and explain the result:"
   ]
  },
  {
   "cell_type": "code",
   "execution_count": 3,
   "id": "aa6032ed",
   "metadata": {},
   "outputs": [
    {
     "ename": "TypeError",
     "evalue": "'<=' not supported between instances of 'C' and 'C'",
     "output_type": "error",
     "traceback": [
      "\u001b[1;31m---------------------------------------------------------------------------\u001b[0m",
      "\u001b[1;31mTypeError\u001b[0m                                 Traceback (most recent call last)",
      "\u001b[1;32m~\\AppData\\Local\\Temp/ipykernel_9880/1867972097.py\u001b[0m in \u001b[0;36m<module>\u001b[1;34m\u001b[0m\n\u001b[1;32m----> 1\u001b[1;33m \u001b[0mC\u001b[0m\u001b[1;33m(\u001b[0m\u001b[1;36m17\u001b[0m\u001b[1;33m)\u001b[0m \u001b[1;33m<=\u001b[0m \u001b[0mC\u001b[0m\u001b[1;33m(\u001b[0m\u001b[1;36m18\u001b[0m\u001b[1;33m)\u001b[0m\u001b[1;33m\u001b[0m\u001b[1;33m\u001b[0m\u001b[0m\n\u001b[0m",
      "\u001b[1;31mTypeError\u001b[0m: '<=' not supported between instances of 'C' and 'C'"
     ]
    }
   ],
   "source": [
    "C(17) <= C(18)"
   ]
  },
  {
   "cell_type": "markdown",
   "id": "c3e9834d",
   "metadata": {},
   "source": [
    "### Exercise\n",
    "\n",
    "Run this code and explain the result. **Hint**: the special `id` function in Python gets the **location** of the object in memory."
   ]
  },
  {
   "cell_type": "code",
   "execution_count": null,
   "id": "cfc963fe",
   "metadata": {},
   "outputs": [],
   "source": [
    "C(17) == C(17) "
   ]
  },
  {
   "cell_type": "markdown",
   "id": "b851a932",
   "metadata": {},
   "source": [
    "### Exercise\n",
    "\n",
    "Edit the definition of `C`, implementing `__eq__` and `__le__`, to fix the problems above."
   ]
  },
  {
   "cell_type": "code",
   "execution_count": null,
   "id": "00a7338d",
   "metadata": {},
   "outputs": [],
   "source": [
    "class C:\n",
    "    \"\"\"\n",
    "    >>> C(17) <= C(18)\n",
    "    True\n",
    "    >>> C(17) == C(17)\n",
    "    True\n",
    "    \"\"\"\n",
    "    def __init__(self, data=17):\n",
    "        self.data = data\n",
    "    def __repr__(self):\n",
    "        return f\"C({self.data})\"\n",
    "    def __lt__(self, other):\n",
    "        return self.data < other.data"
   ]
  },
  {
   "cell_type": "code",
   "execution_count": null,
   "id": "3af35fd6",
   "metadata": {},
   "outputs": [],
   "source": [
    "doctest.run_docstring_examples(C, globals(), verbose=True)"
   ]
  },
  {
   "cell_type": "markdown",
   "id": "729a9ff8",
   "metadata": {},
   "source": [
    "### Exercise\n",
    "\n",
    "This is a classic OOP exercise. Implement a class `Vehicle`, and then create sub-classes `Bicycle` and `Car` from it using `super`. A `Vehicle` has some number of wheels, and a colour, and a method `move`."
   ]
  },
  {
   "cell_type": "code",
   "execution_count": null,
   "id": "628e690b",
   "metadata": {},
   "outputs": [],
   "source": [
    "class Vehicle:\n",
    "    \"\"\"\n",
    "    >>> v = Vehicle()\n",
    "    >>> v.move()\n",
    "    The vehicle is moving in an abstract kind of way\n",
    "    \"\"\"\n",
    "    pass # REPLACE WITH YOUR CODE - remember, \"pass\" is a \"do-nothing\" placeholder.\n",
    "    \n",
    "class Bicycle(Vehicle):\n",
    "    \"\"\"\n",
    "    >>> b = Bicycle(\"red\")\n",
    "    >>> b.move()\n",
    "    The red bicycle is pedalling\n",
    "    \"\"\"\n",
    "    pass\n",
    "    \n",
    "class Car(Vehicle):\n",
    "    \"\"\"\n",
    "    >>> c = Car(\"blue\")\n",
    "    >>> c.move()\n",
    "    The blue car is combusting petrol\n",
    "    \"\"\"\n",
    "    pass"
   ]
  },
  {
   "cell_type": "code",
   "execution_count": null,
   "id": "1c897cb5",
   "metadata": {},
   "outputs": [],
   "source": [
    "doctest.run_docstring_examples(Vehicle, globals(), verbose=True)\n",
    "doctest.run_docstring_examples(Bicycle, globals(), verbose=True)\n",
    "doctest.run_docstring_examples(Car, globals(), verbose=True)"
   ]
  },
  {
   "cell_type": "markdown",
   "id": "1824c374",
   "metadata": {},
   "source": [
    "\n",
    "### Exercise: predict the mode\n",
    "\n",
    "In many machine learning scenarios it's good to create a simple **baseline** to compare a more sophisticated algorithm against. In classification, one simple example is to predict the **mode** -- the most common $y$ value in the training data, ignoring the $X$."
   ]
  },
  {
   "cell_type": "code",
   "execution_count": null,
   "id": "47d96fc3",
   "metadata": {},
   "outputs": [],
   "source": [
    "from collections import Counter\n",
    "\n",
    "def mode(y):\n",
    "    \"\"\"\n",
    "    Example: Counter(\"aaba\") returns (item, count) tuples ordered by count:\n",
    "    [('a', 3), ('b', 1)]\n",
    "    So the most common item is at [0][0]\n",
    "    \"\"\"\n",
    "    return Counter(y).most_common()[0][0]\n",
    "mode(['a', 'a', 'b', 'a'])"
   ]
  },
  {
   "cell_type": "markdown",
   "id": "5edda73f",
   "metadata": {},
   "source": [
    "Create a `ModePredictor` class using the above code. Inherit from Scikit-Learn `BaseEstimator` and `ClassifierMixin`. Compare its classification accuracy on the dataset below against another classifier, such as `RandomForestClassifier`. Remember, we should **inherit** classification accuracy, not implement it ourselves!"
   ]
  },
  {
   "cell_type": "code",
   "execution_count": null,
   "id": "6d4faac5",
   "metadata": {},
   "outputs": [],
   "source": [
    "import pandas as pd\n",
    "from sklearn.base import BaseEstimator, ClassifierMixin\n",
    "from sklearn.model_selection import train_test_split\n",
    "from sklearn.ensemble import RandomForestClassifier"
   ]
  },
  {
   "cell_type": "code",
   "execution_count": null,
   "id": "55f74f61",
   "metadata": {},
   "outputs": [],
   "source": [
    "df = pd.read_csv(\"data/unbalanced.csv\", index_col=0)\n",
    "df.head()"
   ]
  },
  {
   "cell_type": "code",
   "execution_count": null,
   "id": "31e05e72",
   "metadata": {},
   "outputs": [],
   "source": [
    "X = df[[\"X0\", \"X1\"]].values\n",
    "y = df[\"y\"].values\n",
    "X_train, X_test, y_train, y_test = train_test_split(X, y, test_size=0.5, random_state=1)"
   ]
  },
  {
   "cell_type": "code",
   "execution_count": null,
   "id": "2da75618",
   "metadata": {},
   "outputs": [],
   "source": [
    "X_train"
   ]
  },
  {
   "cell_type": "code",
   "execution_count": null,
   "id": "bc4e2562",
   "metadata": {},
   "outputs": [],
   "source": [
    "y_train"
   ]
  },
  {
   "cell_type": "code",
   "execution_count": null,
   "id": "ecb39034",
   "metadata": {},
   "outputs": [],
   "source": [
    "class ModePredictor(BaseEstimator, ClassifierMixin):\n",
    "    pass ## REPLACE WITH YOUR CODE"
   ]
  },
  {
   "cell_type": "markdown",
   "id": "b8e77f1e",
   "metadata": {},
   "source": [
    "When we run the code below we should see a table of results like this:\n",
    "\n",
    "```python\n",
    "ModePredictor(): 0.90\n",
    "RandomForestClassifier(): 0.90\n",
    "```"
   ]
  },
  {
   "cell_type": "code",
   "execution_count": null,
   "id": "da9b5446",
   "metadata": {},
   "outputs": [],
   "source": [
    "clfs = [ModePredictor(), RandomForestClassifier()]\n",
    "for clf in clfs:\n",
    "    clf.fit(X_train, y_train)\n",
    "    print(f\"{clf}: {clf.score(X_test, y_test):.2f}\")"
   ]
  }
 ],
 "metadata": {
  "kernelspec": {
   "display_name": "Python 3 (ipykernel)",
   "language": "python",
   "name": "python3"
  },
  "language_info": {
   "codemirror_mode": {
    "name": "ipython",
    "version": 3
   },
   "file_extension": ".py",
   "mimetype": "text/x-python",
   "name": "python",
   "nbconvert_exporter": "python",
   "pygments_lexer": "ipython3",
   "version": "3.7.3"
  }
 },
 "nbformat": 4,
 "nbformat_minor": 5
}
