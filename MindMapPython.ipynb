{
  "nbformat": 4,
  "nbformat_minor": 0,
  "metadata": {
    "colab": {
      "provenance": [],
      "authorship_tag": "ABX9TyMfmENGs3kSW9O/rsK6IehB",
      "include_colab_link": true
    },
    "kernelspec": {
      "name": "python3",
      "display_name": "Python 3"
    },
    "language_info": {
      "name": "python"
    }
  },
  "cells": [
    {
      "cell_type": "markdown",
      "metadata": {
        "id": "view-in-github",
        "colab_type": "text"
      },
      "source": [
        "<a href=\"https://colab.research.google.com/github/RafaelNovais/MasterAI/blob/master/MindMapPython.ipynb\" target=\"_parent\"><img src=\"https://colab.research.google.com/assets/colab-badge.svg\" alt=\"Open In Colab\"/></a>"
      ]
    },
    {
      "cell_type": "code",
      "execution_count": null,
      "metadata": {
        "id": "mh5kFbCkvU2Y"
      },
      "outputs": [],
      "source": []
    },
    {
      "cell_type": "markdown",
      "source": [
        "**1 Duck typing**\n",
        "\n",
        "\tmeans the same code can run with different types, as long as they have the right\n",
        "\tbehaviour, which is determined at runtime.\n",
        "\tdef hist(s):\n",
        "\td = collections.defaultdict(int)\n",
        "\tfor x in s:\n",
        "\td[x] += 1\n",
        "\treturn d\n",
        "\tHere, it doesn’t matter whether s is a list, set, tuple, string, or something else, as long as we\n",
        "\tcan iterate over it. Grading: +3 for explanation, +2 for code.\n",
        "\n",
        "\n",
        "**2 -Memoisation means** (1)\n",
        "\n",
        "\tstoring the result of every call to a function so that if it is ever called\n",
        "\tagain with the same arguments, the result can be looked-up and returned without re-calculating\n",
        "\tit, (1) to save time. In order to be useful, (1) the function must be called repeatedly; there\n",
        "\tmust be the possibility that it will be called repeatedly with the same arguments; (1) it must\n",
        "\tbe relatively time-consuming; (1) it must be deterministic.\n",
        "\n",
        "\n",
        "**3 - Lambda x: x*0.3**\n",
        "\n",
        "\tFunctional Programing\n",
        "\tAll, ANY,\n",
        "\tsoma_lambda = lambda numero1, numero2: numero1 + numero2  # Função soma escrita como Função Lambda\n",
        "\tMAP Object\n",
        "\n",
        "**4- Python without collections.**\n",
        "\n",
        "**5 - itertools**\n",
        "\n",
        "**6 - Machine epsilon**\n",
        "\n",
        "\tis the smallest number which can be represented in Python, or the smallest\n",
        "\tdifference between successive numbers. We could try e.g. 10**-1000 (and see 0.0) and then\n",
        "\t10**-10 (and see 0.0000000001), and then use binary search between these, interactively, to\n",
        "\tsee what value of x in 10**-x is the largest, before it becomes 0\n",
        "\n",
        "**7 - grouping**\n",
        "\n",
        "**8 - generator yield**\n",
        "\n",
        "\t\tUma funcao com return yield porem sem salvar na memoria, podendo ser chamado para uso\n",
        "\t\tgenerating values on-the-fly rather than storing them in memory.\n",
        "\t\tThis can be more memory-efficient, especially when dealing with large datasets or when you don't need to compute all the values at once .\n",
        "\n",
        "9 - broadcasting\n",
        "\n",
        "10 -Tidy format\n",
        "\n",
        "11 - Scikit-Learn\n",
        "\t11.1 - GridSearchCV\n",
        "\n",
        "**12 -  Unpacking**  a,b,c = \"ABC\" a=A,b=B,c=C\n",
        "\n",
        "\t\t\tQuebrar objeto/list em variaveis individual\n",
        "\t\t\tUnpacking refers to the process of extracting values from iterable objects, such as lists or tuples, and assigning them to individual variables. It allows you to efficiently and concisely assign multiple values in a single statement.\n",
        "\n",
        "\n",
        "**13 - \"Don't Repeat Yourself\" (DRY)**\n",
        "\n",
        "\t\tis a programming principle that encourages developers to avoid duplicating code. The main idea is to reduce redundancy by organizing code in a way that promotes reusability and maintainability. Instead of repeating the same logic or functionality in multiple places, you should strive to define it once and reuse it where needed.\n",
        "\n",
        "\n",
        "\t\t13.1 - Modularization:\n",
        "\t\t\tBreak down your code into modular components, such as functions or classes, that perform specific tasks. This allows you to reuse those components throughout your codebase.\n",
        "\n",
        "\t\t13.2 - Function and Method Abstraction:\n",
        "\t\t\tIf you find yourself writing the same piece of code in multiple places, consider encapsulating that code in a function or method. This way, you can call the function or method wherever the logic is needed, avoiding redundancy.\n",
        "\n",
        "\t\t13.3 - Code Organization:\n",
        "\t\t\tKeep related code grouped together. For example, if you have a set of utility functions, place them in a separate module or package. This makes it easier to locate and reuse code.\n",
        "\n",
        "\t\t13.4 - Inheritance and Polymorphism:\n",
        "\t\t\tUse inheritance and polymorphism to create reusable code through class hierarchies. This allows you to define common behavior in a base class and specialize it in derived classes.\n",
        "\n",
        "\t\t13.5 - DRY in Tests:\n",
        "\t\t\tAvoid duplicating test code. Use test fixtures and helper functions to encapsulate common test setup or assertions, ensuring that changes to the test logic only need to be made in one place.\n",
        "\n",
        "\t\t13.6Configuration and Constants:\n",
        "\t\t\tIf you have constants or configuration values used in multiple places, define them in a central location. This makes it easier to update them globally.\n"
      ],
      "metadata": {
        "id": "SEPxBWX5vWR6"
      }
    },
    {
      "cell_type": "code",
      "source": [
        "#Format Function\n",
        "i = 5\n",
        "print (\"The value of i is %d\" %i)\n",
        "f\"The value of i is {i}\"\n",
        "%d Decimal\n",
        "%2f 2.10 F float 2F"
      ],
      "metadata": {
        "colab": {
          "base_uri": "https://localhost:8080/"
        },
        "id": "d0NZm_kpG52a",
        "outputId": "f642603a-25c4-471a-c3a6-1fe20aa36a89"
      },
      "execution_count": 4,
      "outputs": [
        {
          "output_type": "stream",
          "name": "stdout",
          "text": [
            "The value of i is 5\n"
          ]
        },
        {
          "output_type": "stream",
          "name": "stderr",
          "text": [
            "UsageError: Line magic function `%d` not found.\n"
          ]
        }
      ]
    },
    {
      "cell_type": "code",
      "source": [
        "#Filter\n",
        "m=[]\n",
        "for x in L:\n",
        "  if x % 2 == 0\n",
        "    m.append(x**2)"
      ],
      "metadata": {
        "id": "jHxbRTzAHKqc"
      },
      "execution_count": null,
      "outputs": []
    },
    {
      "cell_type": "code",
      "source": [
        "#Generetor Save Memory\n",
        "def gen_square(start, stop):\n",
        "  for i in range(start,stop):\n",
        "    yield i**2\n",
        "\n",
        "for sq in gen_square(0,5):print(sq)"
      ],
      "metadata": {
        "id": "kHGA-es_RB0t"
      },
      "execution_count": null,
      "outputs": []
    },
    {
      "cell_type": "code",
      "source": [
        "#MAP\n",
        "list(map(len, [\"a\",\"cat\",\"and\",\"a\", \"dog\"]))\n",
        "map(len, [\"a\",\"cat\",\"and\",\"a\", \"dog\"]) # Map is a posicion in the mermory"
      ],
      "metadata": {
        "colab": {
          "base_uri": "https://localhost:8080/"
        },
        "id": "3EtKPJXnW4H0",
        "outputId": "c8d371c5-d9a2-4866-efbe-ed8c0f537f37"
      },
      "execution_count": 6,
      "outputs": [
        {
          "output_type": "execute_result",
          "data": {
            "text/plain": [
              "<map at 0x7ba1e9ba6f50>"
            ]
          },
          "metadata": {},
          "execution_count": 6
        }
      ]
    }
  ]
}