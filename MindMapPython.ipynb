{
  "nbformat": 4,
  "nbformat_minor": 0,
  "metadata": {
    "colab": {
      "provenance": [],
      "authorship_tag": "ABX9TyP0AO6foxsdCZIIgbV9GHQE",
      "include_colab_link": true
    },
    "kernelspec": {
      "name": "python3",
      "display_name": "Python 3"
    },
    "language_info": {
      "name": "python"
    }
  },
  "cells": [
    {
      "cell_type": "markdown",
      "metadata": {
        "id": "view-in-github",
        "colab_type": "text"
      },
      "source": [
        "<a href=\"https://colab.research.google.com/github/RafaelNovais/MasterAI/blob/master/MindMapPython.ipynb\" target=\"_parent\"><img src=\"https://colab.research.google.com/assets/colab-badge.svg\" alt=\"Open In Colab\"/></a>"
      ]
    },
    {
      "cell_type": "code",
      "execution_count": null,
      "metadata": {
        "id": "mh5kFbCkvU2Y"
      },
      "outputs": [],
      "source": []
    },
    {
      "cell_type": "markdown",
      "source": [
        "**1 Duck typing**\n",
        "\n",
        "\tmeans the same code can run with different types, as long as they have the right\n",
        "\tbehaviour, which is determined at runtime.\n",
        "\tdef hist(s):\n",
        "\td = collections.defaultdict(int)\n",
        "\tfor x in s:\n",
        "\td[x] += 1\n",
        "\treturn d\n",
        "\tHere, it doesn’t matter whether s is a list, set, tuple, string, or something else, as long as we\n",
        "\tcan iterate over it. Grading: +3 for explanation, +2 for code.\n",
        "\n",
        "\n",
        "**2 -Memoisation means** (1)\n",
        "\n",
        "\tArmazenar em cache\n",
        "\tstoring the result of every call to a function so that if it is ever called\n",
        "\tagain with the same arguments, the result can be looked-up and returned without re-calculating\n",
        "\tit, (1) to save time. In order to be useful, (1) the function must be called repeatedly; there\n",
        "\tmust be the possibility that it will be called repeatedly with the same arguments; (1) it must\n",
        "\tbe relatively time-consuming; (1) it must be deterministic.\n",
        "\n",
        "\n",
        "**3 - Lambda x: x*0.3**\n",
        "\n",
        "\tFunctional Programing\n",
        "\tAll, ANY,\n",
        "\tsoma_lambda = lambda numero1, numero2: numero1 + numero2  # Função soma escrita como Função Lambda\n",
        "\tMAP Object\n",
        "\tmap(lambda x: x**2, range(0, 5)) return space na memoria\n",
        "\tlist(map(lambda x: x**2, range(0, 5))) agora retorna a lista\n",
        "\n",
        "**4- Python collections.**\n",
        "\n",
        "\t4.1 -Matplotlib\n",
        "\t\t4.1.1 - import matplotlib.pyplot as plt\n",
        "\t\t4.1.2 - plt.plot  lineplot\n",
        "\t\t4.1.3 - plt.scatter scater plot\n",
        "\t\t4.1.4 - plt.xlim, ylin to control axis ranges\n",
        "\t\t4.1.5 - plt.xlaber, ylanbel to give axis label\n",
        "\n",
        "\t4.2 - Numpy - Vectorisation\n",
        "\t\t4.2.1 - import numpy as np central object is array\n",
        "\t\t4.2.2 -  x=np.array([1.0,2.0,3.0]) 1D float array\n",
        "\t\t4.2.3 - M=np.array([1,2,3],[4,5,6],[7,8,9]) 2DInt array\n",
        "\t\t4.2.4 - np.linspace(0,10,101, endpoint=True) 1D grid\n",
        "\t\t4.2.5 - np.allclose 2.000000004 <> 2\n",
        "\t\t4.2.6 - Fancy Indexing L[0][0] list of list 1 element from 1 list\n",
        "\n",
        "\t4.3 - Pandas\n",
        "\t\t4.3.1 - import pandas as pd Central object is DATAFRAME\n",
        "\t\t4.3.2 - pd.read_csv, pd.to_csv\n",
        "\t\t4.3.3 - df.head(), df = pd.DataFrame(rest)\n",
        "\t\t4.3.4 - Dataframe is like a dictionary, name:column dict:df['x']\n",
        "\n",
        "\n",
        "\n",
        "\n",
        "**5 - itertools**\n",
        "\n",
        "\tis a module in Python's standard library that provides a set of fast, memory-efficient tools for working with iterators. Iterators are objects that can be iterated (looped) over, but itertools provides additional functionality beyond what is available with built-in functions and sequences. The module contains several functions that return iterators for common operations.\n",
        "\n",
        "\t5.1 - itertools.count(start=0, step=1)\n",
        "\t5.2 - itertools.cycle(iterable)\n",
        "\t5.3 - itertools.repeat(element, times=None)\n",
        "\t5.4 - itertools.combinations(iterable, r)\n",
        "\t5.5 - itertools.product(*iterables, repeat=1)\n",
        "\n",
        "\n",
        "**6 - Machine epsilon**\n",
        "\n",
        "\tacademic term for the smallest magnitude that can be representres in a floating point\n",
        "\n",
        "\tis the smallest number which can be represented in Python, or the smallest\n",
        "\tdifference between successive numbers. We could try e.g. 10**-1000 (and see 0.0) and then\n",
        "\t10**-10 (and see 0.0000000001), and then use binary search between these, interactively, to\n",
        "\tsee what value of x in 10**-x is the largest, before it becomes 0\n",
        "\n",
        "**7 - grouping**\n",
        "\n",
        "**8 - generator yield**\n",
        "\n",
        "\t\tUma funcao com return yield porem sem salvar na memoria, podendo ser chamado para uso\n",
        "\t\tgenerating values on-the-fly rather than storing them in memory.\n",
        "\t\tThis can be more memory-efficient, especially when dealing with large datasets or when you don't need to compute all the values at once .\n",
        "\n",
        "**9 - Broadcasting** Compatible Shapes\n",
        "\n",
        "\t\tallows arrays of different shapes and sizes to be combined or operated on together. Broadcasting is particularly useful when working with arrays of different shapes\n",
        "\n",
        "\t\tIf the arrays do not have the same rank (number of dimensions), pad the smaller shape with ones on its left side.\n",
        "\t\tCompare the sizes of the corresponding dimensions.\n",
        "\t\t\tIf the sizes are different, but one of them is 1, the array with size 1 is broadcasted to match the other shape.\n",
        "\t\t\tIf the sizes are different, and none of them is 1, then broadcasting is not possible, and a ValueError will be raised.\n",
        "\n",
        "10 -Tidy format\n",
        "\n",
        "11 - Scikit-Learn\n",
        "\n",
        "\t11.1 - GridSearchCV\n",
        "\n",
        "**12 -  Unpacking**  a,b,c = \"ABC\" a=A,b=B,c=C\n",
        "\n",
        "\t\t\tQuebrar objeto/list em variaveis individual\n",
        "\t\t\tUnpacking refers to the process of extracting values from iterable objects, such as lists or tuples, and assigning them to individual variables. It allows you to efficiently and concisely assign multiple values in a single statement.\n",
        "\n",
        "\n",
        "**13 - \"Don't Repeat Yourself\" (DRY)**\n",
        "\n",
        "\t\tis a programming principle that encourages developers to avoid duplicating code. The main idea is to reduce redundancy by organizing code in a way that promotes reusability and maintainability. Instead of repeating the same logic or functionality in multiple places, you should strive to define it once and reuse it where needed.\n",
        "\n",
        "\n",
        "\t\t13.1 - Modularization:\n",
        "\t\t\tBreak down your code into modular components, such as functions or classes, that perform specific tasks. This allows you to reuse those components throughout your codebase.\n",
        "\n",
        "\t\t13.2 - Function and Method Abstraction:\n",
        "\t\t\tIf you find yourself writing the same piece of code in multiple places, consider encapsulating that code in a function or method. This way, you can call the function or method wherever the logic is needed, avoiding redundancy.\n",
        "\n",
        "\t\t13.3 - Code Organization:\n",
        "\t\t\tKeep related code grouped together. For example, if you have a set of utility functions, place them in a separate module or package. This makes it easier to locate and reuse code.\n",
        "\n",
        "\t\t13.4 - Inheritance and Polymorphism:\n",
        "\t\t\tUse inheritance and polymorphism to create reusable code through class hierarchies. This allows you to define common behavior in a base class and specialize it in derived classes.\n",
        "\n",
        "\t\t13.5 - DRY in Tests:\n",
        "\t\t\tAvoid duplicating test code. Use test fixtures and helper functions to encapsulate common test setup or assertions, ensuring that changes to the test logic only need to be made in one place.\n",
        "\n",
        "\t\t13.6Configuration and Constants:\n",
        "\t\t\tIf you have constants or configuration values used in multiple places, define them in a central location. This makes it easier to update them globally.\n",
        "\n",
        "\n",
        "\n",
        "**14 - Exceptions and Tracebacks**\n",
        "\n",
        "\t\t\tTry-Except Block\n",
        "\t\t exceptions are a way of handling errors or exceptional situations that may occur during the execution of a program. When an error occurs, Python raises an exception, and if it is not handled by the program, it results in a traceback, which is a detailed report of the sequence of function calls leading up to the exception.\n",
        "\n",
        "\n",
        "\n"
      ],
      "metadata": {
        "id": "SEPxBWX5vWR6"
      }
    },
    {
      "cell_type": "code",
      "source": [
        "#Duty Type\n",
        "def hist(s):\n",
        "  d = collections.defaultdict(int)\n",
        "  for x in s:\n",
        "    d[x] += 1\n",
        "  return d"
      ],
      "metadata": {
        "id": "B1nvIIYpc8wU"
      },
      "execution_count": null,
      "outputs": []
    },
    {
      "cell_type": "code",
      "source": [
        "#Format Function\n",
        "i = 5\n",
        "print (\"The value of i is %d\" %i)\n",
        "f\"The value of i is {i}\"\n",
        "%d Decimal\n",
        "%2f 2.10 F float 2F"
      ],
      "metadata": {
        "colab": {
          "base_uri": "https://localhost:8080/"
        },
        "id": "d0NZm_kpG52a",
        "outputId": "f642603a-25c4-471a-c3a6-1fe20aa36a89"
      },
      "execution_count": null,
      "outputs": [
        {
          "output_type": "stream",
          "name": "stdout",
          "text": [
            "The value of i is 5\n"
          ]
        },
        {
          "output_type": "stream",
          "name": "stderr",
          "text": [
            "UsageError: Line magic function `%d` not found.\n"
          ]
        }
      ]
    },
    {
      "cell_type": "code",
      "source": [
        "#Filter\n",
        "m=[]\n",
        "for x in L:\n",
        "  if x % 2 == 0\n",
        "    m.append(x**2)"
      ],
      "metadata": {
        "id": "jHxbRTzAHKqc"
      },
      "execution_count": null,
      "outputs": []
    },
    {
      "cell_type": "code",
      "source": [
        "#Generetor Save Memory\n",
        "def gen_square(start, stop):\n",
        "  for i in range(start,stop):\n",
        "    yield i**2\n",
        "\n",
        "for sq in gen_square(0,5):print(sq)"
      ],
      "metadata": {
        "id": "kHGA-es_RB0t"
      },
      "execution_count": null,
      "outputs": []
    },
    {
      "cell_type": "code",
      "source": [
        "#MAP\n",
        "list(map(len, [\"a\",\"cat\",\"and\",\"a\", \"dog\"]))\n",
        "map(len, [\"a\",\"cat\",\"and\",\"a\", \"dog\"]) # Map is a posicion in the mermory"
      ],
      "metadata": {
        "colab": {
          "base_uri": "https://localhost:8080/"
        },
        "id": "3EtKPJXnW4H0",
        "outputId": "c8d371c5-d9a2-4866-efbe-ed8c0f537f37"
      },
      "execution_count": null,
      "outputs": [
        {
          "output_type": "execute_result",
          "data": {
            "text/plain": [
              "<map at 0x7ba1e9ba6f50>"
            ]
          },
          "metadata": {},
          "execution_count": 6
        }
      ]
    },
    {
      "cell_type": "code",
      "source": [
        "#Try-Except Block\n",
        "try:\n",
        "    # Code that might raise an exception\n",
        "    result = 10 / 0\n",
        "except ZeroDivisionError as e:\n",
        "    # Code to handle the exception\n",
        "    print(f\"Error: {e}\")\n"
      ],
      "metadata": {
        "colab": {
          "base_uri": "https://localhost:8080/"
        },
        "id": "ZCwhLsiLc-Ds",
        "outputId": "e6b6ec88-ec41-49f5-965e-e11522dc8dd8"
      },
      "execution_count": null,
      "outputs": [
        {
          "output_type": "stream",
          "name": "stdout",
          "text": [
            "Error: division by zero\n"
          ]
        }
      ]
    },
    {
      "cell_type": "code",
      "source": [
        "#Palindrome\n",
        "def palindrome(s):\n",
        "  for x, y in zip(s, reversed(s)):\n",
        "    if x != y:\n",
        "    return False\n",
        "  return True\n",
        "\n",
        "palindrome('TENET') # RECOMMENDED MOV"
      ],
      "metadata": {
        "id": "W7OzlWOOp06H"
      },
      "execution_count": null,
      "outputs": []
    },
    {
      "cell_type": "code",
      "source": [
        "def validate(s):\n",
        "  if len(s) != 8:\n",
        "    return 'Bad length'\n",
        "  if not s[0].isupper():\n",
        "    return 'Initial uppercase required'\n",
        "  return 'Ok'\n",
        "\n",
        "  #Test\n",
        "'''\n",
        ">>> validate('Abcdefgh')\n",
        "Ok\n",
        ">>> validate('abcdefgh)\n",
        "Initial uppercase required\n",
        ">>> validate('Abcd')\n",
        "Bad length\n",
        "'''"
      ],
      "metadata": {
        "id": "nyvuC8faq4bP"
      },
      "execution_count": null,
      "outputs": []
    },
    {
      "cell_type": "code",
      "source": [
        "class C:\n",
        "  def __init__(self, data):\n",
        "    self.data = data\n",
        "  def __str__(self):\n",
        "    return str(self.data)\n",
        "  def __len__(self):\n",
        "    return len(self.data)\n",
        "\n",
        "c = C([4, 5, 6])\n",
        "len(c)\n",
        "\n",
        "#Solution. c is an object of type C. len(c) is translated to c.__len__(), which results in\n",
        "#C.__len__(c), ie we have self equal to c now. Inside __len__ we have len(c.data) which is\n",
        "#len([4, 5, 6]) since [4, 5, 6] was saved as self.data in the constructor. len([4, 5, 6]) delegates to\n",
        "#list’s builtin __len__ which returns 3."
      ],
      "metadata": {
        "colab": {
          "base_uri": "https://localhost:8080/"
        },
        "id": "KkNZe-NHsRIw",
        "outputId": "a0908d2a-b898-45ed-d725-f36030aa354c"
      },
      "execution_count": 3,
      "outputs": [
        {
          "output_type": "execute_result",
          "data": {
            "text/plain": [
              "3"
            ]
          },
          "metadata": {},
          "execution_count": 3
        }
      ]
    },
    {
      "cell_type": "code",
      "source": [
        "#Duplicate\n",
        "def has_duplicates(L):\n",
        "    seen = set()\n",
        "    for item in L:\n",
        "        if item in seen:\n",
        "            return True\n",
        "        seen.add(item)\n",
        "    return False\n"
      ],
      "metadata": {
        "id": "h4SOaIpKxiA_"
      },
      "execution_count": null,
      "outputs": []
    },
    {
      "cell_type": "code",
      "source": [
        "import numpy as np\n",
        "\n",
        "# Broadcasting with a scalar\n",
        "arr = np.array([1, 2, 3])\n",
        "result = arr + 5  # The scalar 5 is broadcasted to [5, 5, 5]\n",
        "print(result)     # Output: [6, 7, 8]\n",
        "\n",
        "# Broadcasting with a 1D array\n",
        "arr1 = np.array([1, 2, 3])\n",
        "arr2 = np.array([10, 20, 30])\n",
        "result = arr1 + arr2  # Both arrays are of shape (3,) and can be broadcasted\n",
        "print(result)         # Output: [11, 22, 33]\n",
        "\n",
        "# Broadcasting with a 2D array\n",
        "arr3 = np.array([[1, 2, 3], [4, 5, 6]])\n",
        "arr4 = np.array([10, 20, 30])\n",
        "result = arr3 + arr4  # arr4 is broadcasted along the rows of arr3\n",
        "print(result)\n",
        "# Output:\n",
        "# [[11, 22, 33],\n",
        "#  [14, 25, 36]]"
      ],
      "metadata": {
        "id": "8LkD7JtDSEsT"
      },
      "execution_count": null,
      "outputs": []
    }
  ]
}