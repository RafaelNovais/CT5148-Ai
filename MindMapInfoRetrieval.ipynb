{
  "nbformat": 4,
  "nbformat_minor": 0,
  "metadata": {
    "colab": {
      "provenance": [],
      "authorship_tag": "ABX9TyOfPcEBMCwie/myA5fjQMyQ",
      "include_colab_link": true
    },
    "kernelspec": {
      "name": "python3",
      "display_name": "Python 3"
    },
    "language_info": {
      "name": "python"
    }
  },
  "cells": [
    {
      "cell_type": "markdown",
      "metadata": {
        "id": "view-in-github",
        "colab_type": "text"
      },
      "source": [
        "<a href=\"https://colab.research.google.com/github/RafaelNovais/MasterAI/blob/master/MindMapInfoRetrieval.ipynb\" target=\"_parent\"><img src=\"https://colab.research.google.com/assets/colab-badge.svg\" alt=\"Open In Colab\"/></a>"
      ]
    },
    {
      "cell_type": "markdown",
      "source": [
        "Week1\n",
        "\n",
        "# Data collections\n",
        "Well structured collections of related items; items are usually atomic with a well-defined interpretation. Data retrieval involves the selection of a fixed set of data based on a well-defined query (e.g SQL, OQL).\n",
        "\n",
        "# Information collections\n",
        "Information, on the other hand, is usually semi-structured or unstructured. Information retrieval (IR) involves the retrieval of documents of natural  Language which is typically not structured and may be semantically ambiguous.\n",
        "\n",
        "-----------------------------------------\n",
        "\n",
        "**Stemming**\n",
        "\n",
        "Stemming refers to the reduction to words to a potentially common root.\n",
        "Stemming involves the reduction of similar words to a common root form. Lovin’s and Porter’s algorithms are the most common.\n",
        "\n",
        "EX. Computerisation, computing, computers could all be stemmed to common form\n",
        "comput.\n",
        "\n",
        "\n",
        "**Stop word removal**\n",
        "\n",
        "This involves the removal of very frequent terms from documents.\n",
        "These terms add little to the semantics or meaning of the document.\n",
        "\n",
        "\n",
        "**Thesaurus construction**\n",
        "\n",
        "Thesauri used to try to identify synonyms within the documents. Manually or\n",
        "automatically created.\n",
        "EX. Messi, Argentina, World cup correlated\n",
        "\n",
        "**Representation**\n",
        "\n",
        "Representation and comparison technique depends on the information retrieval model\n",
        "chosen. The choice of feedback techniques is also dependent on the model chosen.\n",
        "Introduction to IR Models 11 / 28\n",
        "\n",
        "-----------------------------------------------------------\n",
        "\n",
        "\n",
        "\n",
        "\n",
        "\n",
        "\n",
        "\n",
        "\n",
        "\n",
        "\n",
        "\n",
        "\n",
        "\n",
        "\n",
        "\n",
        "\n",
        "\n"
      ],
      "metadata": {
        "id": "ptSLqdSf0gqQ"
      }
    }
  ]
}