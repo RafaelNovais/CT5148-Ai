{
  "nbformat": 4,
  "nbformat_minor": 0,
  "metadata": {
    "colab": {
      "provenance": [],
      "authorship_tag": "ABX9TyMP8jYbXmjFogsOeqjvW549",
      "include_colab_link": true
    },
    "kernelspec": {
      "name": "python3",
      "display_name": "Python 3"
    },
    "language_info": {
      "name": "python"
    }
  },
  "cells": [
    {
      "cell_type": "markdown",
      "metadata": {
        "id": "view-in-github",
        "colab_type": "text"
      },
      "source": [
        "<a href=\"https://colab.research.google.com/github/RafaelNovais/MasterAI/blob/master/MASRFMindMap.ipynb\" target=\"_parent\"><img src=\"https://colab.research.google.com/assets/colab-badge.svg\" alt=\"Open In Colab\"/></a>"
      ]
    },
    {
      "cell_type": "code",
      "execution_count": null,
      "metadata": {
        "id": "lG4TWFg7aow8"
      },
      "outputs": [],
      "source": []
    },
    {
      "cell_type": "markdown",
      "source": [
        "#Agents\n",
        "\n",
        "  * An agent is a computer system that is capable of  independent action on behalf of its user or owner (figuring out what needs to be done to satisfy design objectives, rather than constantly being told)\n",
        "\n",
        "**Autonomous Systems**\n",
        "  * Is a selfish/autonomus/individual interaction but in a colective process based in the envairoment, the action of 1 start the next one Bee ex.\n",
        "\n",
        "\n",
        "# Multiagent Systems\n",
        "  * A multiagent system is one that consists of a number of agents, which interact with one-another more then one agent\n",
        "  * In the most general case, agents will be acting on behalf of users with different goals and motivations\n",
        "  * To successfully interact, they will require the ability to cooperate, coordinate, and negotiate with each other, much as people do\n",
        "\n",
        "\n",
        "\n",
        "\n",
        "\n",
        "\n",
        "\n",
        "\n",
        "\n",
        "\n",
        "\n",
        "\n",
        "\n",
        "\n",
        "\n",
        "\n",
        "\n",
        "\n",
        "\n",
        "\n",
        "\n",
        "\n"
      ],
      "metadata": {
        "id": "YTczAE3daw0X"
      }
    }
  ]
}