{
  "nbformat": 4,
  "nbformat_minor": 0,
  "metadata": {
    "colab": {
      "provenance": [],
      "authorship_tag": "ABX9TyOJPNraMi1J9HOeqFMYEVjo",
      "include_colab_link": true
    },
    "kernelspec": {
      "name": "python3",
      "display_name": "Python 3"
    },
    "language_info": {
      "name": "python"
    }
  },
  "cells": [
    {
      "cell_type": "markdown",
      "metadata": {
        "id": "view-in-github",
        "colab_type": "text"
      },
      "source": [
        "<a href=\"https://colab.research.google.com/github/RafaelNovais/MasterAI/blob/master/Bert.ipynb\" target=\"_parent\"><img src=\"https://colab.research.google.com/assets/colab-badge.svg\" alt=\"Open In Colab\"/></a>"
      ]
    },
    {
      "cell_type": "code",
      "execution_count": null,
      "metadata": {
        "id": "SU0xc_rYBKbM"
      },
      "outputs": [],
      "source": [
        "pip install transformers datasets torch scikit-learn\n"
      ]
    },
    {
      "cell_type": "code",
      "source": [
        "import pandas as pd\n",
        "import torch\n",
        "from transformers import BertTokenizer, BertForSequenceClassification, Trainer, TrainingArguments\n",
        "from sklearn.model_selection import train_test_split\n",
        "from sklearn.metrics import accuracy_score, precision_recall_fscore_support\n",
        "from datasets import Dataset\n",
        "\n",
        "# Load the dataset\n",
        "train_df = pd.read_csv('path_to_train.csv')\n",
        "dev_df = pd.read_csv('path_to_dev.csv')\n",
        "test_df = pd.read_csv('path_to_test.csv')\n",
        "\n",
        "# Preprocessing: Tokenize the text data with BERT tokenizer\n",
        "tokenizer = BertTokenizer.from_pretrained('bert-base-uncased')\n",
        "\n",
        "def tokenize_data(df):\n",
        "    return tokenizer(df['text'].tolist(), padding=True, truncation=True, max_length=128, return_tensors=\"pt\")\n",
        "\n",
        "# Encode labels\n",
        "def encode_labels(df):\n",
        "    label_dict = {'positive': 2, 'neutral': 1, 'negative': 0}\n",
        "    return df['sentiment'].map(label_dict).values\n",
        "\n",
        "# Tokenize and encode the train, dev, and test sets\n",
        "train_encodings = tokenize_data(train_df)\n",
        "dev_encodings = tokenize_data(dev_df)\n",
        "test_encodings = tokenize_data(test_df)\n",
        "\n",
        "train_labels = encode_labels(train_df)\n",
        "dev_labels = encode_labels(dev_df)\n",
        "test_labels = encode_labels(test_df)\n",
        "\n",
        "# Convert to Dataset object for Hugging Face's Trainer API\n",
        "def create_dataset(encodings, labels):\n",
        "    return Dataset.from_dict({'input_ids': encodings['input_ids'], 'attention_mask': encodings['attention_mask'], 'labels': labels})\n",
        "\n",
        "train_dataset = create_dataset(train_encodings, train_labels)\n",
        "dev_dataset = create_dataset(dev_encodings, dev_labels)\n",
        "test_dataset = create_dataset(test_encodings, test_labels)\n",
        "\n",
        "# Load the pre-trained BERT model\n",
        "model = BertForSequenceClassification.from_pretrained('bert-base-uncased', num_labels=3)\n",
        "\n",
        "# Define evaluation metrics\n",
        "def compute_metrics(p):\n",
        "    pred_labels = p.predictions.argmax(-1)\n",
        "    accuracy = accuracy_score(p.label_ids, pred_labels)\n",
        "    precision, recall, f1, _ = precision_recall_fscore_support(p.label_ids, pred_labels, average='weighted')\n",
        "    return {\"accuracy\": accuracy, \"precision\": precision, \"recall\": recall, \"f1\": f1}\n",
        "\n",
        "# Define training arguments\n",
        "training_args = TrainingArguments(\n",
        "    output_dir='./results',\n",
        "    evaluation_strategy=\"epoch\",\n",
        "    learning_rate=2e-5,\n",
        "    per_device_train_batch_size=16,\n",
        "    per_device_eval_batch_size=16,\n",
        "    num_train_epochs=3,\n",
        "    weight_decay=0.01,\n",
        ")\n",
        "\n",
        "# Initialize Trainer\n",
        "trainer = Trainer(\n",
        "    model=model,\n",
        "    args=training_args,\n",
        "    train_dataset=train_dataset,\n",
        "    eval_dataset=dev_dataset,\n",
        "    compute_metrics=compute_metrics,\n",
        ")\n",
        "\n",
        "# Train the model\n",
        "trainer.train()\n",
        "\n",
        "# Evaluate on the test set\n",
        "test_result = trainer.evaluate(test_dataset)\n",
        "print(test_result)\n"
      ],
      "metadata": {
        "id": "deAuHqplBLPp"
      },
      "execution_count": null,
      "outputs": []
    }
  ]
}