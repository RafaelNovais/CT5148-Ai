{
  "nbformat": 4,
  "nbformat_minor": 0,
  "metadata": {
    "colab": {
      "provenance": [],
      "authorship_tag": "ABX9TyOD9hVEUDk37y4VmA+5Eg/o",
      "include_colab_link": true
    },
    "kernelspec": {
      "name": "python3",
      "display_name": "Python 3"
    },
    "language_info": {
      "name": "python"
    }
  },
  "cells": [
    {
      "cell_type": "markdown",
      "metadata": {
        "id": "view-in-github",
        "colab_type": "text"
      },
      "source": [
        "<a href=\"https://colab.research.google.com/github/RafaelNovais/MasterAI/blob/master/MindMapSLDA.ipynb\" target=\"_parent\"><img src=\"https://colab.research.google.com/assets/colab-badge.svg\" alt=\"Open In Colab\"/></a>"
      ]
    },
    {
      "cell_type": "code",
      "execution_count": null,
      "metadata": {
        "id": "a480rTUr9PSl"
      },
      "outputs": [],
      "source": []
    },
    {
      "cell_type": "markdown",
      "source": [
        "# Learning outcomes\n",
        "• LO1: Be able to define large-scale data analytics and understand its characteristics\n",
        "\n",
        "    1.   Distributed Sources data on the web\n",
        "    2.   Processed using diistributed and parallel computing approaches\n",
        "    3.   Distributed processing using multiple networked machines\n",
        "    \n",
        "\n",
        "\n",
        "• LO2: Be able to explain and apply concepts and tools for distributed and parallel processing of large-scale data\n",
        "\n",
        "    1.   Concurrency means that two or more computing processes or threads can run in an unordered, partially ordered or overlapping way, without affecting the overall result\n",
        "    2.   Concurrency can happen on the level of entire processes, or within a single process on the thread-level (multithreading; concurrency of threads)\n",
        "\n",
        "\n",
        "\n",
        "• LO3: Know how to explain and apply concepts and tools for highly scalable collection, querying,\n",
        "filtering, sorting and synthesizing of data\n",
        "\n",
        "\n",
        "• LO4: Know how to describe and apply selected statistical and machine learning techniques and tools\n",
        "for the analysis of large-scale data\n",
        "\n",
        "\n",
        "• LO5: Know how to explain and apply approaches to stream data analytics and complex event\n",
        "processing\n",
        "\n",
        "\n",
        "• LO6: Understand and be able to discuss privacy issues in connection with large-scale data analytics\n",
        "\n",
        "\n",
        "Planned for the rest of the semester\n",
        "• Revision of advanced Java programming concepts (mainly parallel computing)\n",
        "• Relevant new Java 8 concepts (e.g., Java 8 streams, Lambda expressions)\n",
        "  \n",
        "#  Functional programming\n",
        "\n",
        "    • Avoid mutation (in-place modification of existing data instead of reating a new (modified object), where possible\n",
        "    • Avoid global variables (e.g., public static fields)\n",
        "    • Avoid side effects of functions. The results of functions/methods should ideally only depend on their arguments. Methods/functions should not   manipulate shared state, as far as possible.\n",
        "    • Where possible, rely on inherently \"parallel\" data structures instead of designing parallel solutions manually (e.g., use parallel streams with Java8\n",
        "\n",
        "\n",
        "# Anonymous classes\n",
        "\n",
        "\n",
        "\n",
        "\n",
        "# Lambda expressions\n",
        "\n",
        "    \n",
        "    *Lambda expressions are anonymous functions (functions without names)\n",
        "    *(int x, int y) -> x + y\n",
        "    *Parameters are optional. If there are no parameter, write () before the arrow\n",
        "    *Lambda expressions can use arbitrary blocks of code to produce a result\n",
        "    *You can provide a lambda expression everywhere where an object with a matching functional interface as type is expected\n",
        "    *\n",
        "\n",
        "\n",
        "```\n",
        "Ex:\n",
        "(int x, int y) -> x + y\n",
        "\n",
        "x -> {\n",
        "double d = 5.0;\n",
        "System.out.println(\"x: \" + x);\n",
        "double dx = d * x;\n",
        "return dc - 7.2;\n",
        "}\n",
        "\n",
        "```\n",
        "\n",
        "# Synchronized:\n",
        "Very general and good performance (if used correctly) but error-prone. Can degrade performance if used incorrectly (over-blocking):\n",
        "\n",
        "\n",
        "# Deadlock\n",
        "\n",
        "\n",
        "\n",
        "\n",
        "• The Data Analytics pipeline\n",
        "• The MapReduce approach\n",
        "• Introduction to cluster computing and Hadoop\n",
        "• Introduction to Apache Spark\n",
        "• Working with RDDs (Resilient Distributed Datasets)\n",
        "• Spark Data Frames and Data Sets\n",
        "• Obtaining statistics over data\n",
        "• Representing and storing data\n",
        "• Deployment of LSDA tasks on a cluster of computers\n",
        "• Basics of parallel and clustered machine learning\n",
        "• Machine Learning with Spark (e.g., for classification)\n",
        "• Stream and event data analytics"
      ],
      "metadata": {
        "id": "84WI01qHGkQJ"
      }
    }
  ]
}