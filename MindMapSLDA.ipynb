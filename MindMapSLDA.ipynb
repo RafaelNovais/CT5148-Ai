{
  "nbformat": 4,
  "nbformat_minor": 0,
  "metadata": {
    "colab": {
      "provenance": [],
      "authorship_tag": "ABX9TyNAst9lL3N8t1cPTww7Om/a",
      "include_colab_link": true
    },
    "kernelspec": {
      "name": "python3",
      "display_name": "Python 3"
    },
    "language_info": {
      "name": "python"
    }
  },
  "cells": [
    {
      "cell_type": "markdown",
      "metadata": {
        "id": "view-in-github",
        "colab_type": "text"
      },
      "source": [
        "<a href=\"https://colab.research.google.com/github/RafaelNovais/MasterAI/blob/master/MindMapSLDA.ipynb\" target=\"_parent\"><img src=\"https://colab.research.google.com/assets/colab-badge.svg\" alt=\"Open In Colab\"/></a>"
      ]
    },
    {
      "cell_type": "code",
      "execution_count": null,
      "metadata": {
        "id": "a480rTUr9PSl"
      },
      "outputs": [],
      "source": [
        "Learning outcomes\n",
        "• LO1: Be able to define large-scale data analytics and understand its characteristics\n",
        "• LO2: Be able to explain and apply concepts and tools for distributed and parallel processing of large-\n",
        "scale data\n",
        "• LO3: Know how to explain and apply concepts and tools for highly scalable collection, querying,\n",
        "filtering, sorting and synthesizing of data\n",
        "• LO4: Know how to describe and apply selected statistical and machine learning techniques and tools\n",
        "for the analysis of large-scale data\n",
        "• LO5: Know how to explain and apply approaches to stream data analytics and complex event\n",
        "processing\n",
        "• LO6: Understand and be able to discuss privacy issues in connection with large-scale data analytics"
      ]
    }
  ]
}