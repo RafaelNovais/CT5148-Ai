{
 "cells": [
  {
   "cell_type": "code",
   "execution_count": null,
   "id": "initial_id",
   "metadata": {
    "collapsed": true,
    "is_executing": true
   },
   "outputs": [],
   "source": [
    "from pandas.core.arrays.datetimelike import mode\n",
    "import pandas as pd\n",
    "from sklearn.svm import LinearSVC\n",
    "from collections import Counter\n",
    "import matplotlib.pyplot as plt\n",
    "\n",
    "\"\"\"\n",
    "The appropriate machine learning category for solving the problem of predicting stress levels is Linear Regression .\n",
    "You can treating the stress level as a continuous numerical variable and predict a numerical value representing the stress level,\n",
    "can provide a quantitative estimate of stress, allowing for a more fine-grained understanding of stress levels.\n",
    "\n",
    "Can not be considered imbalanced because the proportion is:\n",
    "Data\n",
    "0    0.672802\n",
    "1    0.327198\n",
    "Test\n",
    "0    0.671782\n",
    "1    0.328218\n",
    "Train\n",
    "0    0.673239\n",
    "1    0.326761\n",
    "\n",
    "\n",
    "Panda to read and use the files\n",
    "Scikit Learn to use classification algorithms, decision trees, random forests, support vector machines, linear regression\n",
    "Matplotlib  to data visualization and scientific plotting\n",
    "\"\"\"\n",
    "\n",
    "dataFrame = pd.read_csv(\"/content/Data.csv\")\n",
    "dataTest = pd.read_csv(\"/content/test.csv\")\n",
    "dataTrain = pd.read_csv(\"/content/train.csv\")\n",
    "\n",
    "x_data = dataFrame[[\"HR\",\"respr\",]]\n",
    "y_data = dataFrame[\"Label\"]\n",
    "x_test = dataTest[[\"HR\",\"respr\",]]\n",
    "y_test = dataTest[\"Label\"]\n",
    "x_train = dataTrain[[\"HR\",\"respr\",]]\n",
    "y_train = dataTrain[\"Label\"]\n",
    "\n",
    "propor_data = y_data.value_counts()/len(x_data)\n",
    "propor_test = y_test.value_counts()/len(x_test)\n",
    "propor_train = y_train.value_counts()/len(x_train)\n",
    "print(propor_data , propor_test , propor_train)\n",
    "\n",
    "\n"
   ]
  }
 ],
 "metadata": {
  "kernelspec": {
   "display_name": "Python 3",
   "language": "python",
   "name": "python3"
  },
  "language_info": {
   "codemirror_mode": {
    "name": "ipython",
    "version": 2
   },
   "file_extension": ".py",
   "mimetype": "text/x-python",
   "name": "python",
   "nbconvert_exporter": "python",
   "pygments_lexer": "ipython2",
   "version": "2.7.6"
  }
 },
 "nbformat": 4,
 "nbformat_minor": 5
}
