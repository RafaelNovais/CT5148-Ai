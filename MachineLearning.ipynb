from pandas.core.arrays.datetimelike import mode
import pandas as pd
from sklearn.svm import LinearSVC
from sklearn.metrics import accuracy_score
from collections import Counter
import matplotlib.pyplot as plt
import numpy as np
import seaborn as sns


"""
Understanding the Dataset
The appropriate machine learning category for solving the problem of predicting stress levels is Linear Regression .
You can treating the stress level as a continuous numerical variable and predict a numerical value representing the stress level,
can provide a quantitative estimate of stress, allowing for a more fine-grained understanding of stress levels.

Data Exploration
Can not be considered imbalanced because the proportion is:
Data
0    0.672802
1    0.327198
Test
0    0.671782
1    0.328218
Train
0    0.673239
1    0.326761

Choosing an ML Package
Panda to read and use the files
Scikit Learn to use classification algorithms, decision trees, random forests, support vector machines, linear regression
Matplotlib and seaborn  to data visualization and scientific plotting
numpy to organize the data and math


Data Pre-processing
Fill the empty values



"""

data = pd.read_csv("/content/sample_data/Data.csv")
dataTest = pd.read_csv("/content/sample_data/test.csv")
dataTrain = pd.read_csv("/content/sample_data/train.csv")

data = pd.DataFrame(data).fillna(0)
dataTest = pd.DataFrame(dataTest).fillna(0)
dataTrain = pd.DataFrame(dataTrain).fillna(0)

x_data = data[["HR","respr"]]
y_data = data["Label"]
x_test = dataTest[["HR","respr"]]
y_test = dataTest["Label"]
x_train = dataTrain[["HR","respr"]]
y_train = dataTrain["Label"]

propor_data = y_data.value_counts()/len(x_data)
propor_test = y_test.value_counts()/len(x_test)
propor_train = y_train.value_counts()/len(x_train)

###Model Evaluation
model = LinearSVC()
model.fit(x_train,y_train)
predict = model.predict(x_test)
accuracy = accuracy_score(y_test,predict)
print(accuracy)

sns.relplot(x="HR",y="respr",col="Label", hue="Label",data=data)


